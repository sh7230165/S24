{
  "nbformat": 4,
  "nbformat_minor": 0,
  "metadata": {
    "colab": {
      "provenance": [],
      "include_colab_link": true
    },
    "kernelspec": {
      "name": "python3",
      "display_name": "Python 3"
    },
    "language_info": {
      "name": "python"
    },
    "widgets": {
      "application/vnd.jupyter.widget-state+json": {
        "52f06db8bc4b4c22b93c489ceb384cde": {
          "model_module": "@jupyter-widgets/output",
          "model_name": "OutputModel",
          "model_module_version": "1.0.0",
          "state": {
            "_dom_classes": [],
            "_model_module": "@jupyter-widgets/output",
            "_model_module_version": "1.0.0",
            "_model_name": "OutputModel",
            "_view_count": null,
            "_view_module": "@jupyter-widgets/output",
            "_view_module_version": "1.0.0",
            "_view_name": "OutputView",
            "layout": "IPY_MODEL_fd0f2ba28c674c1fa5361b7bef2650a6",
            "msg_id": "",
            "outputs": []
          }
        },
        "fd0f2ba28c674c1fa5361b7bef2650a6": {
          "model_module": "@jupyter-widgets/base",
          "model_name": "LayoutModel",
          "model_module_version": "1.2.0",
          "state": {
            "_model_module": "@jupyter-widgets/base",
            "_model_module_version": "1.2.0",
            "_model_name": "LayoutModel",
            "_view_count": null,
            "_view_module": "@jupyter-widgets/base",
            "_view_module_version": "1.2.0",
            "_view_name": "LayoutView",
            "align_content": null,
            "align_items": null,
            "align_self": null,
            "border": null,
            "bottom": null,
            "display": null,
            "flex": null,
            "flex_flow": null,
            "grid_area": null,
            "grid_auto_columns": null,
            "grid_auto_flow": null,
            "grid_auto_rows": null,
            "grid_column": null,
            "grid_gap": null,
            "grid_row": null,
            "grid_template_areas": null,
            "grid_template_columns": null,
            "grid_template_rows": null,
            "height": null,
            "justify_content": null,
            "justify_items": null,
            "left": null,
            "margin": null,
            "max_height": null,
            "max_width": null,
            "min_height": null,
            "min_width": null,
            "object_fit": null,
            "object_position": null,
            "order": null,
            "overflow": null,
            "overflow_x": null,
            "overflow_y": null,
            "padding": null,
            "right": null,
            "top": null,
            "visibility": null,
            "width": null
          }
        },
        "acb47be2927c4d65a753f9d65cb36129": {
          "model_module": "@jupyter-widgets/controls",
          "model_name": "VBoxModel",
          "model_module_version": "1.5.0",
          "state": {
            "_dom_classes": [],
            "_model_module": "@jupyter-widgets/controls",
            "_model_module_version": "1.5.0",
            "_model_name": "VBoxModel",
            "_view_count": null,
            "_view_module": "@jupyter-widgets/controls",
            "_view_module_version": "1.5.0",
            "_view_name": "VBoxView",
            "box_style": "",
            "children": [
              "IPY_MODEL_80763ae706b140c78148bc620cf8ac6e",
              "IPY_MODEL_a26f9b6c62894b159c73140958f044e4",
              "IPY_MODEL_b6fe2608f78540a4924f576b0c3f5424",
              "IPY_MODEL_64bf8640450e4da8b33e25b6c3784c52",
              "IPY_MODEL_8ce89a488d64441d9b80806e241ec0fb",
              "IPY_MODEL_8e6efdad2ff94478a2491b4878acaa84"
            ],
            "layout": "IPY_MODEL_c0286214a9a54ab1ababd719574d0401"
          }
        },
        "80763ae706b140c78148bc620cf8ac6e": {
          "model_module": "@jupyter-widgets/controls",
          "model_name": "TextModel",
          "model_module_version": "1.5.0",
          "state": {
            "_dom_classes": [],
            "_model_module": "@jupyter-widgets/controls",
            "_model_module_version": "1.5.0",
            "_model_name": "TextModel",
            "_view_count": null,
            "_view_module": "@jupyter-widgets/controls",
            "_view_module_version": "1.5.0",
            "_view_name": "TextView",
            "continuous_update": true,
            "description": "Calculation:",
            "description_tooltip": null,
            "disabled": false,
            "layout": "IPY_MODEL_569cde652ad3438a93f8c34eff47fecf",
            "placeholder": "Type something",
            "style": "IPY_MODEL_ce1990d4ef6f487a82a864652ae63db7",
            "value": "30"
          }
        },
        "a26f9b6c62894b159c73140958f044e4": {
          "model_module": "@jupyter-widgets/controls",
          "model_name": "HBoxModel",
          "model_module_version": "1.5.0",
          "state": {
            "_dom_classes": [],
            "_model_module": "@jupyter-widgets/controls",
            "_model_module_version": "1.5.0",
            "_model_name": "HBoxModel",
            "_view_count": null,
            "_view_module": "@jupyter-widgets/controls",
            "_view_module_version": "1.5.0",
            "_view_name": "HBoxView",
            "box_style": "",
            "children": [
              "IPY_MODEL_25a96597c7ad423a892f41265c09d7e7",
              "IPY_MODEL_276a85a5b3524fce8f950fdd4e4f39c9",
              "IPY_MODEL_2d78767f9e9b4b18b3d2a6d3a2a2a449",
              "IPY_MODEL_84d1a6943bd24723b4f71b7dae6da7ab"
            ],
            "layout": "IPY_MODEL_e04a7c2f3ed049d6b82b369d603cc5a9"
          }
        },
        "b6fe2608f78540a4924f576b0c3f5424": {
          "model_module": "@jupyter-widgets/controls",
          "model_name": "HBoxModel",
          "model_module_version": "1.5.0",
          "state": {
            "_dom_classes": [],
            "_model_module": "@jupyter-widgets/controls",
            "_model_module_version": "1.5.0",
            "_model_name": "HBoxModel",
            "_view_count": null,
            "_view_module": "@jupyter-widgets/controls",
            "_view_module_version": "1.5.0",
            "_view_name": "HBoxView",
            "box_style": "",
            "children": [
              "IPY_MODEL_42735907a21e4ec39c67a2c7f652ed01",
              "IPY_MODEL_0e861bbf0ee34ef988020e6d9c0cc63c",
              "IPY_MODEL_d03a7d99d6ff4e42bf03e286668264a9",
              "IPY_MODEL_e3243588db6a4aeeab688c37d1cd60b3"
            ],
            "layout": "IPY_MODEL_9bc7dbf4838a45858118fdcd95d85552"
          }
        },
        "64bf8640450e4da8b33e25b6c3784c52": {
          "model_module": "@jupyter-widgets/controls",
          "model_name": "HBoxModel",
          "model_module_version": "1.5.0",
          "state": {
            "_dom_classes": [],
            "_model_module": "@jupyter-widgets/controls",
            "_model_module_version": "1.5.0",
            "_model_name": "HBoxModel",
            "_view_count": null,
            "_view_module": "@jupyter-widgets/controls",
            "_view_module_version": "1.5.0",
            "_view_name": "HBoxView",
            "box_style": "",
            "children": [
              "IPY_MODEL_228f592334854c0399d00b0f10817106",
              "IPY_MODEL_8608171bc85e44b3afceda723b2ad107",
              "IPY_MODEL_139efb35e8fb45a2a87e8646d6bddf33",
              "IPY_MODEL_43353c76d0cf40ddbc458bc154915b88"
            ],
            "layout": "IPY_MODEL_b873e54ee63142fb8552abd0c1db049a"
          }
        },
        "8ce89a488d64441d9b80806e241ec0fb": {
          "model_module": "@jupyter-widgets/controls",
          "model_name": "HBoxModel",
          "model_module_version": "1.5.0",
          "state": {
            "_dom_classes": [],
            "_model_module": "@jupyter-widgets/controls",
            "_model_module_version": "1.5.0",
            "_model_name": "HBoxModel",
            "_view_count": null,
            "_view_module": "@jupyter-widgets/controls",
            "_view_module_version": "1.5.0",
            "_view_name": "HBoxView",
            "box_style": "",
            "children": [
              "IPY_MODEL_833fa8db12874cf0ae05a5303215a8db",
              "IPY_MODEL_59cc6151b6204e40b5b58c2307333d38",
              "IPY_MODEL_3d2d705a0d9342a98d9a7f8bcdad68d8",
              "IPY_MODEL_88a4d6b634d5451f843f472a14998196"
            ],
            "layout": "IPY_MODEL_ef1eb475a1e64e888b2e0a010934e979"
          }
        },
        "8e6efdad2ff94478a2491b4878acaa84": {
          "model_module": "@jupyter-widgets/controls",
          "model_name": "HBoxModel",
          "model_module_version": "1.5.0",
          "state": {
            "_dom_classes": [],
            "_model_module": "@jupyter-widgets/controls",
            "_model_module_version": "1.5.0",
            "_model_name": "HBoxModel",
            "_view_count": null,
            "_view_module": "@jupyter-widgets/controls",
            "_view_module_version": "1.5.0",
            "_view_name": "HBoxView",
            "box_style": "",
            "children": [
              "IPY_MODEL_48ba7bbf095a42e2b1c2416f1cdffbe1"
            ],
            "layout": "IPY_MODEL_fc5fdbc3880c4d179366302c43a39cc7"
          }
        },
        "c0286214a9a54ab1ababd719574d0401": {
          "model_module": "@jupyter-widgets/base",
          "model_name": "LayoutModel",
          "model_module_version": "1.2.0",
          "state": {
            "_model_module": "@jupyter-widgets/base",
            "_model_module_version": "1.2.0",
            "_model_name": "LayoutModel",
            "_view_count": null,
            "_view_module": "@jupyter-widgets/base",
            "_view_module_version": "1.2.0",
            "_view_name": "LayoutView",
            "align_content": null,
            "align_items": null,
            "align_self": null,
            "border": null,
            "bottom": null,
            "display": null,
            "flex": null,
            "flex_flow": null,
            "grid_area": null,
            "grid_auto_columns": null,
            "grid_auto_flow": null,
            "grid_auto_rows": null,
            "grid_column": null,
            "grid_gap": null,
            "grid_row": null,
            "grid_template_areas": null,
            "grid_template_columns": null,
            "grid_template_rows": null,
            "height": null,
            "justify_content": null,
            "justify_items": null,
            "left": null,
            "margin": null,
            "max_height": null,
            "max_width": null,
            "min_height": null,
            "min_width": null,
            "object_fit": null,
            "object_position": null,
            "order": null,
            "overflow": null,
            "overflow_x": null,
            "overflow_y": null,
            "padding": null,
            "right": null,
            "top": null,
            "visibility": null,
            "width": null
          }
        },
        "569cde652ad3438a93f8c34eff47fecf": {
          "model_module": "@jupyter-widgets/base",
          "model_name": "LayoutModel",
          "model_module_version": "1.2.0",
          "state": {
            "_model_module": "@jupyter-widgets/base",
            "_model_module_version": "1.2.0",
            "_model_name": "LayoutModel",
            "_view_count": null,
            "_view_module": "@jupyter-widgets/base",
            "_view_module_version": "1.2.0",
            "_view_name": "LayoutView",
            "align_content": null,
            "align_items": null,
            "align_self": null,
            "border": null,
            "bottom": null,
            "display": null,
            "flex": null,
            "flex_flow": null,
            "grid_area": null,
            "grid_auto_columns": null,
            "grid_auto_flow": null,
            "grid_auto_rows": null,
            "grid_column": null,
            "grid_gap": null,
            "grid_row": null,
            "grid_template_areas": null,
            "grid_template_columns": null,
            "grid_template_rows": null,
            "height": null,
            "justify_content": null,
            "justify_items": null,
            "left": null,
            "margin": null,
            "max_height": null,
            "max_width": null,
            "min_height": null,
            "min_width": null,
            "object_fit": null,
            "object_position": null,
            "order": null,
            "overflow": null,
            "overflow_x": null,
            "overflow_y": null,
            "padding": null,
            "right": null,
            "top": null,
            "visibility": null,
            "width": null
          }
        },
        "ce1990d4ef6f487a82a864652ae63db7": {
          "model_module": "@jupyter-widgets/controls",
          "model_name": "DescriptionStyleModel",
          "model_module_version": "1.5.0",
          "state": {
            "_model_module": "@jupyter-widgets/controls",
            "_model_module_version": "1.5.0",
            "_model_name": "DescriptionStyleModel",
            "_view_count": null,
            "_view_module": "@jupyter-widgets/base",
            "_view_module_version": "1.2.0",
            "_view_name": "StyleView",
            "description_width": ""
          }
        },
        "25a96597c7ad423a892f41265c09d7e7": {
          "model_module": "@jupyter-widgets/controls",
          "model_name": "ButtonModel",
          "model_module_version": "1.5.0",
          "state": {
            "_dom_classes": [],
            "_model_module": "@jupyter-widgets/controls",
            "_model_module_version": "1.5.0",
            "_model_name": "ButtonModel",
            "_view_count": null,
            "_view_module": "@jupyter-widgets/controls",
            "_view_module_version": "1.5.0",
            "_view_name": "ButtonView",
            "button_style": "",
            "description": "7",
            "disabled": false,
            "icon": "",
            "layout": "IPY_MODEL_f9f5696cbea24db0b1509b6d1bee574e",
            "style": "IPY_MODEL_72fceef70398493ab786a4d2b853e90a",
            "tooltip": ""
          }
        },
        "276a85a5b3524fce8f950fdd4e4f39c9": {
          "model_module": "@jupyter-widgets/controls",
          "model_name": "ButtonModel",
          "model_module_version": "1.5.0",
          "state": {
            "_dom_classes": [],
            "_model_module": "@jupyter-widgets/controls",
            "_model_module_version": "1.5.0",
            "_model_name": "ButtonModel",
            "_view_count": null,
            "_view_module": "@jupyter-widgets/controls",
            "_view_module_version": "1.5.0",
            "_view_name": "ButtonView",
            "button_style": "",
            "description": "8",
            "disabled": false,
            "icon": "",
            "layout": "IPY_MODEL_f9f5696cbea24db0b1509b6d1bee574e",
            "style": "IPY_MODEL_45d9ac43523d42708ed86fabc5c38e8c",
            "tooltip": ""
          }
        },
        "2d78767f9e9b4b18b3d2a6d3a2a2a449": {
          "model_module": "@jupyter-widgets/controls",
          "model_name": "ButtonModel",
          "model_module_version": "1.5.0",
          "state": {
            "_dom_classes": [],
            "_model_module": "@jupyter-widgets/controls",
            "_model_module_version": "1.5.0",
            "_model_name": "ButtonModel",
            "_view_count": null,
            "_view_module": "@jupyter-widgets/controls",
            "_view_module_version": "1.5.0",
            "_view_name": "ButtonView",
            "button_style": "",
            "description": "9",
            "disabled": false,
            "icon": "",
            "layout": "IPY_MODEL_f9f5696cbea24db0b1509b6d1bee574e",
            "style": "IPY_MODEL_d77c08f39b0a4530bdda17c0901bcd3b",
            "tooltip": ""
          }
        },
        "84d1a6943bd24723b4f71b7dae6da7ab": {
          "model_module": "@jupyter-widgets/controls",
          "model_name": "ButtonModel",
          "model_module_version": "1.5.0",
          "state": {
            "_dom_classes": [],
            "_model_module": "@jupyter-widgets/controls",
            "_model_module_version": "1.5.0",
            "_model_name": "ButtonModel",
            "_view_count": null,
            "_view_module": "@jupyter-widgets/controls",
            "_view_module_version": "1.5.0",
            "_view_name": "ButtonView",
            "button_style": "",
            "description": "÷",
            "disabled": false,
            "icon": "",
            "layout": "IPY_MODEL_f9f5696cbea24db0b1509b6d1bee574e",
            "style": "IPY_MODEL_0770ee980026480e9bbe081c07cae8ce",
            "tooltip": ""
          }
        },
        "e04a7c2f3ed049d6b82b369d603cc5a9": {
          "model_module": "@jupyter-widgets/base",
          "model_name": "LayoutModel",
          "model_module_version": "1.2.0",
          "state": {
            "_model_module": "@jupyter-widgets/base",
            "_model_module_version": "1.2.0",
            "_model_name": "LayoutModel",
            "_view_count": null,
            "_view_module": "@jupyter-widgets/base",
            "_view_module_version": "1.2.0",
            "_view_name": "LayoutView",
            "align_content": null,
            "align_items": null,
            "align_self": null,
            "border": null,
            "bottom": null,
            "display": null,
            "flex": null,
            "flex_flow": null,
            "grid_area": null,
            "grid_auto_columns": null,
            "grid_auto_flow": null,
            "grid_auto_rows": null,
            "grid_column": null,
            "grid_gap": null,
            "grid_row": null,
            "grid_template_areas": null,
            "grid_template_columns": null,
            "grid_template_rows": null,
            "height": null,
            "justify_content": null,
            "justify_items": null,
            "left": null,
            "margin": null,
            "max_height": null,
            "max_width": null,
            "min_height": null,
            "min_width": null,
            "object_fit": null,
            "object_position": null,
            "order": null,
            "overflow": null,
            "overflow_x": null,
            "overflow_y": null,
            "padding": null,
            "right": null,
            "top": null,
            "visibility": null,
            "width": null
          }
        },
        "42735907a21e4ec39c67a2c7f652ed01": {
          "model_module": "@jupyter-widgets/controls",
          "model_name": "ButtonModel",
          "model_module_version": "1.5.0",
          "state": {
            "_dom_classes": [],
            "_model_module": "@jupyter-widgets/controls",
            "_model_module_version": "1.5.0",
            "_model_name": "ButtonModel",
            "_view_count": null,
            "_view_module": "@jupyter-widgets/controls",
            "_view_module_version": "1.5.0",
            "_view_name": "ButtonView",
            "button_style": "",
            "description": "4",
            "disabled": false,
            "icon": "",
            "layout": "IPY_MODEL_f9f5696cbea24db0b1509b6d1bee574e",
            "style": "IPY_MODEL_515e2226d6f94229963eb5014d36e003",
            "tooltip": ""
          }
        },
        "0e861bbf0ee34ef988020e6d9c0cc63c": {
          "model_module": "@jupyter-widgets/controls",
          "model_name": "ButtonModel",
          "model_module_version": "1.5.0",
          "state": {
            "_dom_classes": [],
            "_model_module": "@jupyter-widgets/controls",
            "_model_module_version": "1.5.0",
            "_model_name": "ButtonModel",
            "_view_count": null,
            "_view_module": "@jupyter-widgets/controls",
            "_view_module_version": "1.5.0",
            "_view_name": "ButtonView",
            "button_style": "",
            "description": "5",
            "disabled": false,
            "icon": "",
            "layout": "IPY_MODEL_f9f5696cbea24db0b1509b6d1bee574e",
            "style": "IPY_MODEL_f19e85f54f89496297c693ec92a397ef",
            "tooltip": ""
          }
        },
        "d03a7d99d6ff4e42bf03e286668264a9": {
          "model_module": "@jupyter-widgets/controls",
          "model_name": "ButtonModel",
          "model_module_version": "1.5.0",
          "state": {
            "_dom_classes": [],
            "_model_module": "@jupyter-widgets/controls",
            "_model_module_version": "1.5.0",
            "_model_name": "ButtonModel",
            "_view_count": null,
            "_view_module": "@jupyter-widgets/controls",
            "_view_module_version": "1.5.0",
            "_view_name": "ButtonView",
            "button_style": "",
            "description": "6",
            "disabled": false,
            "icon": "",
            "layout": "IPY_MODEL_f9f5696cbea24db0b1509b6d1bee574e",
            "style": "IPY_MODEL_4fb444c612044511a0a1e5b52b42e305",
            "tooltip": ""
          }
        },
        "e3243588db6a4aeeab688c37d1cd60b3": {
          "model_module": "@jupyter-widgets/controls",
          "model_name": "ButtonModel",
          "model_module_version": "1.5.0",
          "state": {
            "_dom_classes": [],
            "_model_module": "@jupyter-widgets/controls",
            "_model_module_version": "1.5.0",
            "_model_name": "ButtonModel",
            "_view_count": null,
            "_view_module": "@jupyter-widgets/controls",
            "_view_module_version": "1.5.0",
            "_view_name": "ButtonView",
            "button_style": "",
            "description": "×",
            "disabled": false,
            "icon": "",
            "layout": "IPY_MODEL_f9f5696cbea24db0b1509b6d1bee574e",
            "style": "IPY_MODEL_40b59d5e0fd14a54ae658f810947a05b",
            "tooltip": ""
          }
        },
        "9bc7dbf4838a45858118fdcd95d85552": {
          "model_module": "@jupyter-widgets/base",
          "model_name": "LayoutModel",
          "model_module_version": "1.2.0",
          "state": {
            "_model_module": "@jupyter-widgets/base",
            "_model_module_version": "1.2.0",
            "_model_name": "LayoutModel",
            "_view_count": null,
            "_view_module": "@jupyter-widgets/base",
            "_view_module_version": "1.2.0",
            "_view_name": "LayoutView",
            "align_content": null,
            "align_items": null,
            "align_self": null,
            "border": null,
            "bottom": null,
            "display": null,
            "flex": null,
            "flex_flow": null,
            "grid_area": null,
            "grid_auto_columns": null,
            "grid_auto_flow": null,
            "grid_auto_rows": null,
            "grid_column": null,
            "grid_gap": null,
            "grid_row": null,
            "grid_template_areas": null,
            "grid_template_columns": null,
            "grid_template_rows": null,
            "height": null,
            "justify_content": null,
            "justify_items": null,
            "left": null,
            "margin": null,
            "max_height": null,
            "max_width": null,
            "min_height": null,
            "min_width": null,
            "object_fit": null,
            "object_position": null,
            "order": null,
            "overflow": null,
            "overflow_x": null,
            "overflow_y": null,
            "padding": null,
            "right": null,
            "top": null,
            "visibility": null,
            "width": null
          }
        },
        "228f592334854c0399d00b0f10817106": {
          "model_module": "@jupyter-widgets/controls",
          "model_name": "ButtonModel",
          "model_module_version": "1.5.0",
          "state": {
            "_dom_classes": [],
            "_model_module": "@jupyter-widgets/controls",
            "_model_module_version": "1.5.0",
            "_model_name": "ButtonModel",
            "_view_count": null,
            "_view_module": "@jupyter-widgets/controls",
            "_view_module_version": "1.5.0",
            "_view_name": "ButtonView",
            "button_style": "",
            "description": "1",
            "disabled": false,
            "icon": "",
            "layout": "IPY_MODEL_f9f5696cbea24db0b1509b6d1bee574e",
            "style": "IPY_MODEL_c1ded93fb08145b7a08c83dc350284de",
            "tooltip": ""
          }
        },
        "8608171bc85e44b3afceda723b2ad107": {
          "model_module": "@jupyter-widgets/controls",
          "model_name": "ButtonModel",
          "model_module_version": "1.5.0",
          "state": {
            "_dom_classes": [],
            "_model_module": "@jupyter-widgets/controls",
            "_model_module_version": "1.5.0",
            "_model_name": "ButtonModel",
            "_view_count": null,
            "_view_module": "@jupyter-widgets/controls",
            "_view_module_version": "1.5.0",
            "_view_name": "ButtonView",
            "button_style": "",
            "description": "2",
            "disabled": false,
            "icon": "",
            "layout": "IPY_MODEL_f9f5696cbea24db0b1509b6d1bee574e",
            "style": "IPY_MODEL_f9698c24b5c64712a1523461c84d5d5d",
            "tooltip": ""
          }
        },
        "139efb35e8fb45a2a87e8646d6bddf33": {
          "model_module": "@jupyter-widgets/controls",
          "model_name": "ButtonModel",
          "model_module_version": "1.5.0",
          "state": {
            "_dom_classes": [],
            "_model_module": "@jupyter-widgets/controls",
            "_model_module_version": "1.5.0",
            "_model_name": "ButtonModel",
            "_view_count": null,
            "_view_module": "@jupyter-widgets/controls",
            "_view_module_version": "1.5.0",
            "_view_name": "ButtonView",
            "button_style": "",
            "description": "3",
            "disabled": false,
            "icon": "",
            "layout": "IPY_MODEL_f9f5696cbea24db0b1509b6d1bee574e",
            "style": "IPY_MODEL_5bcdea3ae43946bc9ddb725d11931a4d",
            "tooltip": ""
          }
        },
        "43353c76d0cf40ddbc458bc154915b88": {
          "model_module": "@jupyter-widgets/controls",
          "model_name": "ButtonModel",
          "model_module_version": "1.5.0",
          "state": {
            "_dom_classes": [],
            "_model_module": "@jupyter-widgets/controls",
            "_model_module_version": "1.5.0",
            "_model_name": "ButtonModel",
            "_view_count": null,
            "_view_module": "@jupyter-widgets/controls",
            "_view_module_version": "1.5.0",
            "_view_name": "ButtonView",
            "button_style": "",
            "description": "-",
            "disabled": false,
            "icon": "",
            "layout": "IPY_MODEL_f9f5696cbea24db0b1509b6d1bee574e",
            "style": "IPY_MODEL_5ebdaf149c58490c9ef181eaf4da64bf",
            "tooltip": ""
          }
        },
        "b873e54ee63142fb8552abd0c1db049a": {
          "model_module": "@jupyter-widgets/base",
          "model_name": "LayoutModel",
          "model_module_version": "1.2.0",
          "state": {
            "_model_module": "@jupyter-widgets/base",
            "_model_module_version": "1.2.0",
            "_model_name": "LayoutModel",
            "_view_count": null,
            "_view_module": "@jupyter-widgets/base",
            "_view_module_version": "1.2.0",
            "_view_name": "LayoutView",
            "align_content": null,
            "align_items": null,
            "align_self": null,
            "border": null,
            "bottom": null,
            "display": null,
            "flex": null,
            "flex_flow": null,
            "grid_area": null,
            "grid_auto_columns": null,
            "grid_auto_flow": null,
            "grid_auto_rows": null,
            "grid_column": null,
            "grid_gap": null,
            "grid_row": null,
            "grid_template_areas": null,
            "grid_template_columns": null,
            "grid_template_rows": null,
            "height": null,
            "justify_content": null,
            "justify_items": null,
            "left": null,
            "margin": null,
            "max_height": null,
            "max_width": null,
            "min_height": null,
            "min_width": null,
            "object_fit": null,
            "object_position": null,
            "order": null,
            "overflow": null,
            "overflow_x": null,
            "overflow_y": null,
            "padding": null,
            "right": null,
            "top": null,
            "visibility": null,
            "width": null
          }
        },
        "833fa8db12874cf0ae05a5303215a8db": {
          "model_module": "@jupyter-widgets/controls",
          "model_name": "ButtonModel",
          "model_module_version": "1.5.0",
          "state": {
            "_dom_classes": [],
            "_model_module": "@jupyter-widgets/controls",
            "_model_module_version": "1.5.0",
            "_model_name": "ButtonModel",
            "_view_count": null,
            "_view_module": "@jupyter-widgets/controls",
            "_view_module_version": "1.5.0",
            "_view_name": "ButtonView",
            "button_style": "",
            "description": "0",
            "disabled": false,
            "icon": "",
            "layout": "IPY_MODEL_f9f5696cbea24db0b1509b6d1bee574e",
            "style": "IPY_MODEL_fc759c0af9ad4de9b220d57bf8be5b42",
            "tooltip": ""
          }
        },
        "59cc6151b6204e40b5b58c2307333d38": {
          "model_module": "@jupyter-widgets/controls",
          "model_name": "ButtonModel",
          "model_module_version": "1.5.0",
          "state": {
            "_dom_classes": [],
            "_model_module": "@jupyter-widgets/controls",
            "_model_module_version": "1.5.0",
            "_model_name": "ButtonModel",
            "_view_count": null,
            "_view_module": "@jupyter-widgets/controls",
            "_view_module_version": "1.5.0",
            "_view_name": "ButtonView",
            "button_style": "",
            "description": ".",
            "disabled": false,
            "icon": "",
            "layout": "IPY_MODEL_f9f5696cbea24db0b1509b6d1bee574e",
            "style": "IPY_MODEL_8d6e4ee9e0fd413b9985c987fd805864",
            "tooltip": ""
          }
        },
        "3d2d705a0d9342a98d9a7f8bcdad68d8": {
          "model_module": "@jupyter-widgets/controls",
          "model_name": "ButtonModel",
          "model_module_version": "1.5.0",
          "state": {
            "_dom_classes": [],
            "_model_module": "@jupyter-widgets/controls",
            "_model_module_version": "1.5.0",
            "_model_name": "ButtonModel",
            "_view_count": null,
            "_view_module": "@jupyter-widgets/controls",
            "_view_module_version": "1.5.0",
            "_view_name": "ButtonView",
            "button_style": "",
            "description": "=",
            "disabled": false,
            "icon": "",
            "layout": "IPY_MODEL_f9f5696cbea24db0b1509b6d1bee574e",
            "style": "IPY_MODEL_1bfe21edab474fc5adec26998cbb577a",
            "tooltip": ""
          }
        },
        "88a4d6b634d5451f843f472a14998196": {
          "model_module": "@jupyter-widgets/controls",
          "model_name": "ButtonModel",
          "model_module_version": "1.5.0",
          "state": {
            "_dom_classes": [],
            "_model_module": "@jupyter-widgets/controls",
            "_model_module_version": "1.5.0",
            "_model_name": "ButtonModel",
            "_view_count": null,
            "_view_module": "@jupyter-widgets/controls",
            "_view_module_version": "1.5.0",
            "_view_name": "ButtonView",
            "button_style": "",
            "description": "+",
            "disabled": false,
            "icon": "",
            "layout": "IPY_MODEL_f9f5696cbea24db0b1509b6d1bee574e",
            "style": "IPY_MODEL_36752896c02c419f9e2f9cee764cad9a",
            "tooltip": ""
          }
        },
        "ef1eb475a1e64e888b2e0a010934e979": {
          "model_module": "@jupyter-widgets/base",
          "model_name": "LayoutModel",
          "model_module_version": "1.2.0",
          "state": {
            "_model_module": "@jupyter-widgets/base",
            "_model_module_version": "1.2.0",
            "_model_name": "LayoutModel",
            "_view_count": null,
            "_view_module": "@jupyter-widgets/base",
            "_view_module_version": "1.2.0",
            "_view_name": "LayoutView",
            "align_content": null,
            "align_items": null,
            "align_self": null,
            "border": null,
            "bottom": null,
            "display": null,
            "flex": null,
            "flex_flow": null,
            "grid_area": null,
            "grid_auto_columns": null,
            "grid_auto_flow": null,
            "grid_auto_rows": null,
            "grid_column": null,
            "grid_gap": null,
            "grid_row": null,
            "grid_template_areas": null,
            "grid_template_columns": null,
            "grid_template_rows": null,
            "height": null,
            "justify_content": null,
            "justify_items": null,
            "left": null,
            "margin": null,
            "max_height": null,
            "max_width": null,
            "min_height": null,
            "min_width": null,
            "object_fit": null,
            "object_position": null,
            "order": null,
            "overflow": null,
            "overflow_x": null,
            "overflow_y": null,
            "padding": null,
            "right": null,
            "top": null,
            "visibility": null,
            "width": null
          }
        },
        "48ba7bbf095a42e2b1c2416f1cdffbe1": {
          "model_module": "@jupyter-widgets/controls",
          "model_name": "ButtonModel",
          "model_module_version": "1.5.0",
          "state": {
            "_dom_classes": [],
            "_model_module": "@jupyter-widgets/controls",
            "_model_module_version": "1.5.0",
            "_model_name": "ButtonModel",
            "_view_count": null,
            "_view_module": "@jupyter-widgets/controls",
            "_view_module_version": "1.5.0",
            "_view_name": "ButtonView",
            "button_style": "",
            "description": "Clear",
            "disabled": false,
            "icon": "",
            "layout": "IPY_MODEL_f9f5696cbea24db0b1509b6d1bee574e",
            "style": "IPY_MODEL_028531c4fc7d405393d985c087a5cb95",
            "tooltip": ""
          }
        },
        "fc5fdbc3880c4d179366302c43a39cc7": {
          "model_module": "@jupyter-widgets/base",
          "model_name": "LayoutModel",
          "model_module_version": "1.2.0",
          "state": {
            "_model_module": "@jupyter-widgets/base",
            "_model_module_version": "1.2.0",
            "_model_name": "LayoutModel",
            "_view_count": null,
            "_view_module": "@jupyter-widgets/base",
            "_view_module_version": "1.2.0",
            "_view_name": "LayoutView",
            "align_content": null,
            "align_items": null,
            "align_self": null,
            "border": null,
            "bottom": null,
            "display": null,
            "flex": null,
            "flex_flow": null,
            "grid_area": null,
            "grid_auto_columns": null,
            "grid_auto_flow": null,
            "grid_auto_rows": null,
            "grid_column": null,
            "grid_gap": null,
            "grid_row": null,
            "grid_template_areas": null,
            "grid_template_columns": null,
            "grid_template_rows": null,
            "height": null,
            "justify_content": null,
            "justify_items": null,
            "left": null,
            "margin": null,
            "max_height": null,
            "max_width": null,
            "min_height": null,
            "min_width": null,
            "object_fit": null,
            "object_position": null,
            "order": null,
            "overflow": null,
            "overflow_x": null,
            "overflow_y": null,
            "padding": null,
            "right": null,
            "top": null,
            "visibility": null,
            "width": null
          }
        },
        "f9f5696cbea24db0b1509b6d1bee574e": {
          "model_module": "@jupyter-widgets/base",
          "model_name": "LayoutModel",
          "model_module_version": "1.2.0",
          "state": {
            "_model_module": "@jupyter-widgets/base",
            "_model_module_version": "1.2.0",
            "_model_name": "LayoutModel",
            "_view_count": null,
            "_view_module": "@jupyter-widgets/base",
            "_view_module_version": "1.2.0",
            "_view_name": "LayoutView",
            "align_content": null,
            "align_items": null,
            "align_self": null,
            "border": null,
            "bottom": null,
            "display": null,
            "flex": null,
            "flex_flow": null,
            "grid_area": null,
            "grid_auto_columns": null,
            "grid_auto_flow": null,
            "grid_auto_rows": null,
            "grid_column": null,
            "grid_gap": null,
            "grid_row": null,
            "grid_template_areas": null,
            "grid_template_columns": null,
            "grid_template_rows": null,
            "height": "75px",
            "justify_content": null,
            "justify_items": null,
            "left": null,
            "margin": "5px",
            "max_height": null,
            "max_width": null,
            "min_height": null,
            "min_width": null,
            "object_fit": null,
            "object_position": null,
            "order": null,
            "overflow": null,
            "overflow_x": null,
            "overflow_y": null,
            "padding": null,
            "right": null,
            "top": null,
            "visibility": null,
            "width": "75px"
          }
        },
        "72fceef70398493ab786a4d2b853e90a": {
          "model_module": "@jupyter-widgets/controls",
          "model_name": "ButtonStyleModel",
          "model_module_version": "1.5.0",
          "state": {
            "_model_module": "@jupyter-widgets/controls",
            "_model_module_version": "1.5.0",
            "_model_name": "ButtonStyleModel",
            "_view_count": null,
            "_view_module": "@jupyter-widgets/base",
            "_view_module_version": "1.2.0",
            "_view_name": "StyleView",
            "button_color": "orange",
            "font_weight": ""
          }
        },
        "45d9ac43523d42708ed86fabc5c38e8c": {
          "model_module": "@jupyter-widgets/controls",
          "model_name": "ButtonStyleModel",
          "model_module_version": "1.5.0",
          "state": {
            "_model_module": "@jupyter-widgets/controls",
            "_model_module_version": "1.5.0",
            "_model_name": "ButtonStyleModel",
            "_view_count": null,
            "_view_module": "@jupyter-widgets/base",
            "_view_module_version": "1.2.0",
            "_view_name": "StyleView",
            "button_color": "orange",
            "font_weight": ""
          }
        },
        "d77c08f39b0a4530bdda17c0901bcd3b": {
          "model_module": "@jupyter-widgets/controls",
          "model_name": "ButtonStyleModel",
          "model_module_version": "1.5.0",
          "state": {
            "_model_module": "@jupyter-widgets/controls",
            "_model_module_version": "1.5.0",
            "_model_name": "ButtonStyleModel",
            "_view_count": null,
            "_view_module": "@jupyter-widgets/base",
            "_view_module_version": "1.2.0",
            "_view_name": "StyleView",
            "button_color": "orange",
            "font_weight": ""
          }
        },
        "0770ee980026480e9bbe081c07cae8ce": {
          "model_module": "@jupyter-widgets/controls",
          "model_name": "ButtonStyleModel",
          "model_module_version": "1.5.0",
          "state": {
            "_model_module": "@jupyter-widgets/controls",
            "_model_module_version": "1.5.0",
            "_model_name": "ButtonStyleModel",
            "_view_count": null,
            "_view_module": "@jupyter-widgets/base",
            "_view_module_version": "1.2.0",
            "_view_name": "StyleView",
            "button_color": "orange",
            "font_weight": ""
          }
        },
        "515e2226d6f94229963eb5014d36e003": {
          "model_module": "@jupyter-widgets/controls",
          "model_name": "ButtonStyleModel",
          "model_module_version": "1.5.0",
          "state": {
            "_model_module": "@jupyter-widgets/controls",
            "_model_module_version": "1.5.0",
            "_model_name": "ButtonStyleModel",
            "_view_count": null,
            "_view_module": "@jupyter-widgets/base",
            "_view_module_version": "1.2.0",
            "_view_name": "StyleView",
            "button_color": "orange",
            "font_weight": ""
          }
        },
        "f19e85f54f89496297c693ec92a397ef": {
          "model_module": "@jupyter-widgets/controls",
          "model_name": "ButtonStyleModel",
          "model_module_version": "1.5.0",
          "state": {
            "_model_module": "@jupyter-widgets/controls",
            "_model_module_version": "1.5.0",
            "_model_name": "ButtonStyleModel",
            "_view_count": null,
            "_view_module": "@jupyter-widgets/base",
            "_view_module_version": "1.2.0",
            "_view_name": "StyleView",
            "button_color": "orange",
            "font_weight": ""
          }
        },
        "4fb444c612044511a0a1e5b52b42e305": {
          "model_module": "@jupyter-widgets/controls",
          "model_name": "ButtonStyleModel",
          "model_module_version": "1.5.0",
          "state": {
            "_model_module": "@jupyter-widgets/controls",
            "_model_module_version": "1.5.0",
            "_model_name": "ButtonStyleModel",
            "_view_count": null,
            "_view_module": "@jupyter-widgets/base",
            "_view_module_version": "1.2.0",
            "_view_name": "StyleView",
            "button_color": "orange",
            "font_weight": ""
          }
        },
        "40b59d5e0fd14a54ae658f810947a05b": {
          "model_module": "@jupyter-widgets/controls",
          "model_name": "ButtonStyleModel",
          "model_module_version": "1.5.0",
          "state": {
            "_model_module": "@jupyter-widgets/controls",
            "_model_module_version": "1.5.0",
            "_model_name": "ButtonStyleModel",
            "_view_count": null,
            "_view_module": "@jupyter-widgets/base",
            "_view_module_version": "1.2.0",
            "_view_name": "StyleView",
            "button_color": "orange",
            "font_weight": ""
          }
        },
        "c1ded93fb08145b7a08c83dc350284de": {
          "model_module": "@jupyter-widgets/controls",
          "model_name": "ButtonStyleModel",
          "model_module_version": "1.5.0",
          "state": {
            "_model_module": "@jupyter-widgets/controls",
            "_model_module_version": "1.5.0",
            "_model_name": "ButtonStyleModel",
            "_view_count": null,
            "_view_module": "@jupyter-widgets/base",
            "_view_module_version": "1.2.0",
            "_view_name": "StyleView",
            "button_color": "orange",
            "font_weight": ""
          }
        },
        "f9698c24b5c64712a1523461c84d5d5d": {
          "model_module": "@jupyter-widgets/controls",
          "model_name": "ButtonStyleModel",
          "model_module_version": "1.5.0",
          "state": {
            "_model_module": "@jupyter-widgets/controls",
            "_model_module_version": "1.5.0",
            "_model_name": "ButtonStyleModel",
            "_view_count": null,
            "_view_module": "@jupyter-widgets/base",
            "_view_module_version": "1.2.0",
            "_view_name": "StyleView",
            "button_color": "orange",
            "font_weight": ""
          }
        },
        "5bcdea3ae43946bc9ddb725d11931a4d": {
          "model_module": "@jupyter-widgets/controls",
          "model_name": "ButtonStyleModel",
          "model_module_version": "1.5.0",
          "state": {
            "_model_module": "@jupyter-widgets/controls",
            "_model_module_version": "1.5.0",
            "_model_name": "ButtonStyleModel",
            "_view_count": null,
            "_view_module": "@jupyter-widgets/base",
            "_view_module_version": "1.2.0",
            "_view_name": "StyleView",
            "button_color": "orange",
            "font_weight": ""
          }
        },
        "5ebdaf149c58490c9ef181eaf4da64bf": {
          "model_module": "@jupyter-widgets/controls",
          "model_name": "ButtonStyleModel",
          "model_module_version": "1.5.0",
          "state": {
            "_model_module": "@jupyter-widgets/controls",
            "_model_module_version": "1.5.0",
            "_model_name": "ButtonStyleModel",
            "_view_count": null,
            "_view_module": "@jupyter-widgets/base",
            "_view_module_version": "1.2.0",
            "_view_name": "StyleView",
            "button_color": "orange",
            "font_weight": ""
          }
        },
        "fc759c0af9ad4de9b220d57bf8be5b42": {
          "model_module": "@jupyter-widgets/controls",
          "model_name": "ButtonStyleModel",
          "model_module_version": "1.5.0",
          "state": {
            "_model_module": "@jupyter-widgets/controls",
            "_model_module_version": "1.5.0",
            "_model_name": "ButtonStyleModel",
            "_view_count": null,
            "_view_module": "@jupyter-widgets/base",
            "_view_module_version": "1.2.0",
            "_view_name": "StyleView",
            "button_color": "orange",
            "font_weight": ""
          }
        },
        "8d6e4ee9e0fd413b9985c987fd805864": {
          "model_module": "@jupyter-widgets/controls",
          "model_name": "ButtonStyleModel",
          "model_module_version": "1.5.0",
          "state": {
            "_model_module": "@jupyter-widgets/controls",
            "_model_module_version": "1.5.0",
            "_model_name": "ButtonStyleModel",
            "_view_count": null,
            "_view_module": "@jupyter-widgets/base",
            "_view_module_version": "1.2.0",
            "_view_name": "StyleView",
            "button_color": "orange",
            "font_weight": ""
          }
        },
        "1bfe21edab474fc5adec26998cbb577a": {
          "model_module": "@jupyter-widgets/controls",
          "model_name": "ButtonStyleModel",
          "model_module_version": "1.5.0",
          "state": {
            "_model_module": "@jupyter-widgets/controls",
            "_model_module_version": "1.5.0",
            "_model_name": "ButtonStyleModel",
            "_view_count": null,
            "_view_module": "@jupyter-widgets/base",
            "_view_module_version": "1.2.0",
            "_view_name": "StyleView",
            "button_color": "orange",
            "font_weight": ""
          }
        },
        "36752896c02c419f9e2f9cee764cad9a": {
          "model_module": "@jupyter-widgets/controls",
          "model_name": "ButtonStyleModel",
          "model_module_version": "1.5.0",
          "state": {
            "_model_module": "@jupyter-widgets/controls",
            "_model_module_version": "1.5.0",
            "_model_name": "ButtonStyleModel",
            "_view_count": null,
            "_view_module": "@jupyter-widgets/base",
            "_view_module_version": "1.2.0",
            "_view_name": "StyleView",
            "button_color": "orange",
            "font_weight": ""
          }
        },
        "028531c4fc7d405393d985c087a5cb95": {
          "model_module": "@jupyter-widgets/controls",
          "model_name": "ButtonStyleModel",
          "model_module_version": "1.5.0",
          "state": {
            "_model_module": "@jupyter-widgets/controls",
            "_model_module_version": "1.5.0",
            "_model_name": "ButtonStyleModel",
            "_view_count": null,
            "_view_module": "@jupyter-widgets/base",
            "_view_module_version": "1.2.0",
            "_view_name": "StyleView",
            "button_color": "orange",
            "font_weight": ""
          }
        }
      }
    }
  },
  "cells": [
    {
      "cell_type": "markdown",
      "metadata": {
        "id": "view-in-github",
        "colab_type": "text"
      },
      "source": [
        "<a href=\"https://colab.research.google.com/github/sh7230165/S24/blob/main/DLEE/DLW02.ipynb\" target=\"_parent\"><img src=\"https://colab.research.google.com/assets/colab-badge.svg\" alt=\"Open In Colab\"/></a>"
      ]
    },
    {
      "cell_type": "markdown",
      "source": [
        "# 🌳 **Topic: Python basics #1**\n",
        "\n",
        "📙Manual [Coding4ET Lesson03](https://github.com/MK316/Coding4ET/blob/main/Lessons/Lesson03.md#Variables) for self-study\n",
        "\n",
        "\n",
        "📗Table of contents\n",
        "* **3.1 Comment vs. Code cells; Running code cells**\n",
        "+ **3.2 Input vs. Output**\n",
        "* **3.3 Variables**\n",
        "* **3.4 Operators**\n",
        "* **3.5 Functions**\n",
        "* **3.6 Modules, libraries & packages**\n",
        "\n",
        "Updated as of Mar.25, 2024"
      ],
      "metadata": {
        "id": "fkVkXhLoOGMz"
      }
    },
    {
      "cell_type": "markdown",
      "source": [
        "Your github IDs are below:\n",
        "+ [Digital Literacy & English Education](https://docs.google.com/spreadsheets/d/1rcJ6c2BuAIbodEft7ZUsgwFOwiNK9nO2siZ6VUAgcgI/edit?usp=sharing)\n",
        "+ [Introduction to Coding and Language App Design](https://docs.google.com/spreadsheets/d/11TMSMm_0xzBc5lYAJx9oDwwrgeeAqKR1CEULl-eR6w0/edit?usp=sharing)"
      ],
      "metadata": {
        "id": "mUVgzk50XMkt"
      }
    },
    {
      "cell_type": "markdown",
      "source": [
        "# 3.1 Comment vs. Code cells"
      ],
      "metadata": {
        "id": "CY-YSoyjarvc"
      }
    },
    {
      "cell_type": "markdown",
      "source": [
        "**A. This is a comment cell**"
      ],
      "metadata": {
        "id": "uUjz2zOPawt8"
      }
    },
    {
      "cell_type": "code",
      "source": [
        "#@markdown **B. This is a code cell** (Run this code by clicking the icon on the left)\n",
        "\n",
        "name = input(\"What is your name? \")\n",
        "\n",
        "print(\"*\"*30)\n",
        "print(f\"Welcome, {name}!\", \"\\n\\n\", \"When you click on the code cell and run it, the phrase 'You ran the code' indicates that the code has been executed. The output you see is the direct result of what was programmed in that code cell.\")"
      ],
      "metadata": {
        "id": "cTgQTMDmazU9",
        "outputId": "ffd02538-7c9f-495d-e9e9-5df8d9078785",
        "colab": {
          "base_uri": "https://localhost:8080/"
        }
      },
      "execution_count": 1,
      "outputs": [
        {
          "output_type": "stream",
          "name": "stdout",
          "text": [
            "What is your name? 조수현\n",
            "******************************\n",
            "Welcome, 조수현! \n",
            "\n",
            " When you click on the code cell and run it, the phrase 'You ran the code' indicates that the code has been executed. The output you see is the direct result of what was programmed in that code cell.\n"
          ]
        }
      ]
    },
    {
      "cell_type": "markdown",
      "source": [
        "## 😶 _How to comment on a code cell?_\n",
        "\n",
        "- In Python, the # symbol is used to indicate a comment. A comment is a line of text in a code that is ignored by the Python interpreter and is used to provide explanations or notes for the reader of the code."
      ],
      "metadata": {
        "id": "xZv9R8I8ZWvt"
      }
    },
    {
      "cell_type": "code",
      "source": [
        "# This is a comment in Python\n",
        "x = 10 # this is also a comment"
      ],
      "metadata": {
        "id": "7UJmbmmTaFx9"
      },
      "execution_count": null,
      "outputs": []
    },
    {
      "cell_type": "code",
      "source": [
        "x * 10\n",
        "y =\"Welcome to the class.\"\n",
        "k = x * 2\n",
        "print(k)\n",
        "# k + [3,2,1]"
      ],
      "metadata": {
        "colab": {
          "base_uri": "https://localhost:8080/",
          "height": 217
        },
        "id": "Ivc72tB0X_TS",
        "outputId": "9b3e2fb6-30fc-41d6-e541-0909202bba4f"
      },
      "execution_count": 16,
      "outputs": [
        {
          "output_type": "error",
          "ename": "NameError",
          "evalue": "name 'x' is not defined",
          "traceback": [
            "\u001b[0;31m---------------------------------------------------------------------------\u001b[0m",
            "\u001b[0;31mNameError\u001b[0m                                 Traceback (most recent call last)",
            "\u001b[0;32m<ipython-input-16-3d17a352a687>\u001b[0m in \u001b[0;36m<cell line: 1>\u001b[0;34m()\u001b[0m\n\u001b[0;32m----> 1\u001b[0;31m \u001b[0mx\u001b[0m \u001b[0;34m*\u001b[0m \u001b[0;36m10\u001b[0m\u001b[0;34m\u001b[0m\u001b[0;34m\u001b[0m\u001b[0m\n\u001b[0m\u001b[1;32m      2\u001b[0m \u001b[0my\u001b[0m \u001b[0;34m=\u001b[0m\u001b[0;34m\"Welcome to the class.\"\u001b[0m\u001b[0;34m\u001b[0m\u001b[0;34m\u001b[0m\u001b[0m\n\u001b[1;32m      3\u001b[0m \u001b[0mk\u001b[0m \u001b[0;34m=\u001b[0m \u001b[0mx\u001b[0m \u001b[0;34m*\u001b[0m \u001b[0;36m2\u001b[0m\u001b[0;34m\u001b[0m\u001b[0;34m\u001b[0m\u001b[0m\n\u001b[1;32m      4\u001b[0m \u001b[0mprint\u001b[0m\u001b[0;34m(\u001b[0m\u001b[0mk\u001b[0m\u001b[0;34m)\u001b[0m\u001b[0;34m\u001b[0m\u001b[0;34m\u001b[0m\u001b[0m\n\u001b[1;32m      5\u001b[0m \u001b[0;31m# k + [3,2,1]\u001b[0m\u001b[0;34m\u001b[0m\u001b[0;34m\u001b[0m\u001b[0m\n",
            "\u001b[0;31mNameError\u001b[0m: name 'x' is not defined"
          ]
        }
      ]
    },
    {
      "cell_type": "markdown",
      "source": [
        "# 3.2 Input vs. Output"
      ],
      "metadata": {
        "id": "ZXbZsNpwa0-0"
      }
    },
    {
      "cell_type": "markdown",
      "source": [
        "### 🔸**Input:**\n",
        "+ Definition: Input refers to any information or data that is sent to a computer for processing. This information can come from various sources, such as a keyboard, mouse, microphone, or even an internet connection. Examples:\n",
        "\n",
        "  + Typing text on a keyboard.\n",
        "  + Clicking or moving a mouse.\n",
        "  + Speaking into a microphone.\n",
        "  + Uploading a file or entering data through a website.\n",
        "+ Importance in Coding: Understanding input is crucial because it determines how a program will respond or behave. For instance, a program might react differently to a click than it would to a keyboard press.\n",
        "\n",
        "### 🔸**Output:**\n",
        "+ Definition: Output is the result produced by a computer after processing the input. This output can be displayed in various forms like text on a screen, sound through speakers, or even a printed document. Examples:\n",
        "\n",
        "  + Displaying text or images on a screen.\n",
        "  + Playing sound or music through speakers or headphones.\n",
        "  + Sending a document to a printer.\n",
        "  + Saving a file or sending data over the internet.\n",
        "+ Importance in Coding: Output is the way a program communicates the results of its computations or actions. It can be as simple as displaying a message like \"Hello World!\" or as complex as rendering a detailed graphical report."
      ],
      "metadata": {
        "id": "t8MOM-nDeXq9"
      }
    },
    {
      "cell_type": "markdown",
      "source": [
        "### 💦 Multi-modality\n",
        "\n",
        "|Input ➡️ |Codes| ➡️ Output|\n",
        "|--|--|--|\n",
        "|Text|  | Text|\n",
        "|Audio||Audio|\n",
        "|Image||Image|\n",
        "|video||study|\n",
        "[Multi-modality samples](https://github.com/MK316/Spring2024/blob/main/Multimodality.ipynb)"
      ],
      "metadata": {
        "id": "YcnboBYksXqf"
      }
    },
    {
      "cell_type": "code",
      "source": [
        "x"
      ],
      "metadata": {
        "id": "zgZpXRgkeXNi",
        "outputId": "fbd358f4-895e-42ac-e37e-cd5bed889e56",
        "colab": {
          "base_uri": "https://localhost:8080/",
          "height": 145
        }
      },
      "execution_count": 14,
      "outputs": [
        {
          "output_type": "error",
          "ename": "NameError",
          "evalue": "name 'x' is not defined",
          "traceback": [
            "\u001b[0;31m---------------------------------------------------------------------------\u001b[0m",
            "\u001b[0;31mNameError\u001b[0m                                 Traceback (most recent call last)",
            "\u001b[0;32m<ipython-input-14-6fcf9dfbd479>\u001b[0m in \u001b[0;36m<cell line: 1>\u001b[0;34m()\u001b[0m\n\u001b[0;32m----> 1\u001b[0;31m \u001b[0mx\u001b[0m\u001b[0;34m\u001b[0m\u001b[0;34m\u001b[0m\u001b[0m\n\u001b[0m",
            "\u001b[0;31mNameError\u001b[0m: name 'x' is not defined"
          ]
        }
      ]
    },
    {
      "cell_type": "markdown",
      "source": [
        "# 3.3 Variables"
      ],
      "metadata": {
        "id": "93gQaEo1RX63"
      }
    },
    {
      "cell_type": "markdown",
      "source": [
        "+ **A variable** is a named storage location that holds a value.\n",
        "+ Variables can be used **to store values** such as numbers, strings, lists, or other data types.\n",
        "+ The value of a variable can change throughout the execution of a program.\n",
        "+ To declare a variable in Python, you need to assign a value to it using the **equal (=) sign.**\n",
        "+ [Rules to create a variable name](https://github.com/MK316/Coding4ET/blob/main/Lessons/Lesson03.md#Variables)"
      ],
      "metadata": {
        "id": "jJT4hD1teuJr"
      }
    },
    {
      "cell_type": "code",
      "source": [
        "x = 10                # Assign the value '10' to the variable 'x'\n",
        "y = \"Hello, class!\"   # Assign the text 'Hello, class!' to the variable 'y'\n",
        "z = [1, 2, 3]         # Assign the list containing the elements 1, 2, and 3 to the variable z.\n"
      ],
      "metadata": {
        "id": "Xes87bY2X45M"
      },
      "execution_count": 18,
      "outputs": []
    },
    {
      "cell_type": "markdown",
      "source": [
        "↗️ In the above example, 'x' is assigned the value of 10, 'y' is assigned the value of \"Hello, World!\", and 'z' is assigned the value of [1, 2, 3]."
      ],
      "metadata": {
        "id": "ulw6QsP5ZiKp"
      }
    },
    {
      "cell_type": "code",
      "source": [
        "print(z)"
      ],
      "metadata": {
        "id": "qDyVC17pN3-f",
        "outputId": "1466f06a-7726-4341-bb31-208048e8ec4b",
        "colab": {
          "base_uri": "https://localhost:8080/"
        }
      },
      "execution_count": 20,
      "outputs": [
        {
          "output_type": "stream",
          "name": "stdout",
          "text": [
            "[1, 2, 3]\n"
          ]
        }
      ]
    },
    {
      "cell_type": "markdown",
      "source": [
        "[sample link](https://github.com/MK316/Spring2023/raw/main/data/att_sample.csv)"
      ],
      "metadata": {
        "id": "3n2wMVFXQj5y"
      }
    },
    {
      "cell_type": "code",
      "source": [
        "# We can assign a link or a function\n",
        "import pandas as pd\n",
        "url = \"https://github.com/MK316/Spring2023/raw/main/data/att_sample.csv\"\n",
        "data = pd.read_csv(url)\n",
        "data"
      ],
      "metadata": {
        "id": "_7bvpJt2aQmg",
        "outputId": "c7c4a00b-df5c-41d6-b1f0-a821fb97aaa5",
        "colab": {
          "base_uri": "https://localhost:8080/",
          "height": 483
        }
      },
      "execution_count": 26,
      "outputs": [
        {
          "output_type": "execute_result",
          "data": {
            "text/plain": [
              "      Names\n",
              "0      Mary\n",
              "1      John\n",
              "2       Tim\n",
              "3       Bob\n",
              "4     Sarah\n",
              "5      Kate\n",
              "6     Marie\n",
              "7   Johnson\n",
              "8      Mike\n",
              "9     Harry\n",
              "10      Jin\n",
              "11      Sam\n",
              "12     Paul\n",
              "13  Natalie"
            ],
            "text/html": [
              "\n",
              "  <div id=\"df-4c21d59a-2606-4509-8592-1ef43d01f088\" class=\"colab-df-container\">\n",
              "    <div>\n",
              "<style scoped>\n",
              "    .dataframe tbody tr th:only-of-type {\n",
              "        vertical-align: middle;\n",
              "    }\n",
              "\n",
              "    .dataframe tbody tr th {\n",
              "        vertical-align: top;\n",
              "    }\n",
              "\n",
              "    .dataframe thead th {\n",
              "        text-align: right;\n",
              "    }\n",
              "</style>\n",
              "<table border=\"1\" class=\"dataframe\">\n",
              "  <thead>\n",
              "    <tr style=\"text-align: right;\">\n",
              "      <th></th>\n",
              "      <th>Names</th>\n",
              "    </tr>\n",
              "  </thead>\n",
              "  <tbody>\n",
              "    <tr>\n",
              "      <th>0</th>\n",
              "      <td>Mary</td>\n",
              "    </tr>\n",
              "    <tr>\n",
              "      <th>1</th>\n",
              "      <td>John</td>\n",
              "    </tr>\n",
              "    <tr>\n",
              "      <th>2</th>\n",
              "      <td>Tim</td>\n",
              "    </tr>\n",
              "    <tr>\n",
              "      <th>3</th>\n",
              "      <td>Bob</td>\n",
              "    </tr>\n",
              "    <tr>\n",
              "      <th>4</th>\n",
              "      <td>Sarah</td>\n",
              "    </tr>\n",
              "    <tr>\n",
              "      <th>5</th>\n",
              "      <td>Kate</td>\n",
              "    </tr>\n",
              "    <tr>\n",
              "      <th>6</th>\n",
              "      <td>Marie</td>\n",
              "    </tr>\n",
              "    <tr>\n",
              "      <th>7</th>\n",
              "      <td>Johnson</td>\n",
              "    </tr>\n",
              "    <tr>\n",
              "      <th>8</th>\n",
              "      <td>Mike</td>\n",
              "    </tr>\n",
              "    <tr>\n",
              "      <th>9</th>\n",
              "      <td>Harry</td>\n",
              "    </tr>\n",
              "    <tr>\n",
              "      <th>10</th>\n",
              "      <td>Jin</td>\n",
              "    </tr>\n",
              "    <tr>\n",
              "      <th>11</th>\n",
              "      <td>Sam</td>\n",
              "    </tr>\n",
              "    <tr>\n",
              "      <th>12</th>\n",
              "      <td>Paul</td>\n",
              "    </tr>\n",
              "    <tr>\n",
              "      <th>13</th>\n",
              "      <td>Natalie</td>\n",
              "    </tr>\n",
              "  </tbody>\n",
              "</table>\n",
              "</div>\n",
              "    <div class=\"colab-df-buttons\">\n",
              "\n",
              "  <div class=\"colab-df-container\">\n",
              "    <button class=\"colab-df-convert\" onclick=\"convertToInteractive('df-4c21d59a-2606-4509-8592-1ef43d01f088')\"\n",
              "            title=\"Convert this dataframe to an interactive table.\"\n",
              "            style=\"display:none;\">\n",
              "\n",
              "  <svg xmlns=\"http://www.w3.org/2000/svg\" height=\"24px\" viewBox=\"0 -960 960 960\">\n",
              "    <path d=\"M120-120v-720h720v720H120Zm60-500h600v-160H180v160Zm220 220h160v-160H400v160Zm0 220h160v-160H400v160ZM180-400h160v-160H180v160Zm440 0h160v-160H620v160ZM180-180h160v-160H180v160Zm440 0h160v-160H620v160Z\"/>\n",
              "  </svg>\n",
              "    </button>\n",
              "\n",
              "  <style>\n",
              "    .colab-df-container {\n",
              "      display:flex;\n",
              "      gap: 12px;\n",
              "    }\n",
              "\n",
              "    .colab-df-convert {\n",
              "      background-color: #E8F0FE;\n",
              "      border: none;\n",
              "      border-radius: 50%;\n",
              "      cursor: pointer;\n",
              "      display: none;\n",
              "      fill: #1967D2;\n",
              "      height: 32px;\n",
              "      padding: 0 0 0 0;\n",
              "      width: 32px;\n",
              "    }\n",
              "\n",
              "    .colab-df-convert:hover {\n",
              "      background-color: #E2EBFA;\n",
              "      box-shadow: 0px 1px 2px rgba(60, 64, 67, 0.3), 0px 1px 3px 1px rgba(60, 64, 67, 0.15);\n",
              "      fill: #174EA6;\n",
              "    }\n",
              "\n",
              "    .colab-df-buttons div {\n",
              "      margin-bottom: 4px;\n",
              "    }\n",
              "\n",
              "    [theme=dark] .colab-df-convert {\n",
              "      background-color: #3B4455;\n",
              "      fill: #D2E3FC;\n",
              "    }\n",
              "\n",
              "    [theme=dark] .colab-df-convert:hover {\n",
              "      background-color: #434B5C;\n",
              "      box-shadow: 0px 1px 3px 1px rgba(0, 0, 0, 0.15);\n",
              "      filter: drop-shadow(0px 1px 2px rgba(0, 0, 0, 0.3));\n",
              "      fill: #FFFFFF;\n",
              "    }\n",
              "  </style>\n",
              "\n",
              "    <script>\n",
              "      const buttonEl =\n",
              "        document.querySelector('#df-4c21d59a-2606-4509-8592-1ef43d01f088 button.colab-df-convert');\n",
              "      buttonEl.style.display =\n",
              "        google.colab.kernel.accessAllowed ? 'block' : 'none';\n",
              "\n",
              "      async function convertToInteractive(key) {\n",
              "        const element = document.querySelector('#df-4c21d59a-2606-4509-8592-1ef43d01f088');\n",
              "        const dataTable =\n",
              "          await google.colab.kernel.invokeFunction('convertToInteractive',\n",
              "                                                    [key], {});\n",
              "        if (!dataTable) return;\n",
              "\n",
              "        const docLinkHtml = 'Like what you see? Visit the ' +\n",
              "          '<a target=\"_blank\" href=https://colab.research.google.com/notebooks/data_table.ipynb>data table notebook</a>'\n",
              "          + ' to learn more about interactive tables.';\n",
              "        element.innerHTML = '';\n",
              "        dataTable['output_type'] = 'display_data';\n",
              "        await google.colab.output.renderOutput(dataTable, element);\n",
              "        const docLink = document.createElement('div');\n",
              "        docLink.innerHTML = docLinkHtml;\n",
              "        element.appendChild(docLink);\n",
              "      }\n",
              "    </script>\n",
              "  </div>\n",
              "\n",
              "\n",
              "<div id=\"df-f8a5d372-8656-4869-9030-93214be5ccb7\">\n",
              "  <button class=\"colab-df-quickchart\" onclick=\"quickchart('df-f8a5d372-8656-4869-9030-93214be5ccb7')\"\n",
              "            title=\"Suggest charts\"\n",
              "            style=\"display:none;\">\n",
              "\n",
              "<svg xmlns=\"http://www.w3.org/2000/svg\" height=\"24px\"viewBox=\"0 0 24 24\"\n",
              "     width=\"24px\">\n",
              "    <g>\n",
              "        <path d=\"M19 3H5c-1.1 0-2 .9-2 2v14c0 1.1.9 2 2 2h14c1.1 0 2-.9 2-2V5c0-1.1-.9-2-2-2zM9 17H7v-7h2v7zm4 0h-2V7h2v10zm4 0h-2v-4h2v4z\"/>\n",
              "    </g>\n",
              "</svg>\n",
              "  </button>\n",
              "\n",
              "<style>\n",
              "  .colab-df-quickchart {\n",
              "      --bg-color: #E8F0FE;\n",
              "      --fill-color: #1967D2;\n",
              "      --hover-bg-color: #E2EBFA;\n",
              "      --hover-fill-color: #174EA6;\n",
              "      --disabled-fill-color: #AAA;\n",
              "      --disabled-bg-color: #DDD;\n",
              "  }\n",
              "\n",
              "  [theme=dark] .colab-df-quickchart {\n",
              "      --bg-color: #3B4455;\n",
              "      --fill-color: #D2E3FC;\n",
              "      --hover-bg-color: #434B5C;\n",
              "      --hover-fill-color: #FFFFFF;\n",
              "      --disabled-bg-color: #3B4455;\n",
              "      --disabled-fill-color: #666;\n",
              "  }\n",
              "\n",
              "  .colab-df-quickchart {\n",
              "    background-color: var(--bg-color);\n",
              "    border: none;\n",
              "    border-radius: 50%;\n",
              "    cursor: pointer;\n",
              "    display: none;\n",
              "    fill: var(--fill-color);\n",
              "    height: 32px;\n",
              "    padding: 0;\n",
              "    width: 32px;\n",
              "  }\n",
              "\n",
              "  .colab-df-quickchart:hover {\n",
              "    background-color: var(--hover-bg-color);\n",
              "    box-shadow: 0 1px 2px rgba(60, 64, 67, 0.3), 0 1px 3px 1px rgba(60, 64, 67, 0.15);\n",
              "    fill: var(--button-hover-fill-color);\n",
              "  }\n",
              "\n",
              "  .colab-df-quickchart-complete:disabled,\n",
              "  .colab-df-quickchart-complete:disabled:hover {\n",
              "    background-color: var(--disabled-bg-color);\n",
              "    fill: var(--disabled-fill-color);\n",
              "    box-shadow: none;\n",
              "  }\n",
              "\n",
              "  .colab-df-spinner {\n",
              "    border: 2px solid var(--fill-color);\n",
              "    border-color: transparent;\n",
              "    border-bottom-color: var(--fill-color);\n",
              "    animation:\n",
              "      spin 1s steps(1) infinite;\n",
              "  }\n",
              "\n",
              "  @keyframes spin {\n",
              "    0% {\n",
              "      border-color: transparent;\n",
              "      border-bottom-color: var(--fill-color);\n",
              "      border-left-color: var(--fill-color);\n",
              "    }\n",
              "    20% {\n",
              "      border-color: transparent;\n",
              "      border-left-color: var(--fill-color);\n",
              "      border-top-color: var(--fill-color);\n",
              "    }\n",
              "    30% {\n",
              "      border-color: transparent;\n",
              "      border-left-color: var(--fill-color);\n",
              "      border-top-color: var(--fill-color);\n",
              "      border-right-color: var(--fill-color);\n",
              "    }\n",
              "    40% {\n",
              "      border-color: transparent;\n",
              "      border-right-color: var(--fill-color);\n",
              "      border-top-color: var(--fill-color);\n",
              "    }\n",
              "    60% {\n",
              "      border-color: transparent;\n",
              "      border-right-color: var(--fill-color);\n",
              "    }\n",
              "    80% {\n",
              "      border-color: transparent;\n",
              "      border-right-color: var(--fill-color);\n",
              "      border-bottom-color: var(--fill-color);\n",
              "    }\n",
              "    90% {\n",
              "      border-color: transparent;\n",
              "      border-bottom-color: var(--fill-color);\n",
              "    }\n",
              "  }\n",
              "</style>\n",
              "\n",
              "  <script>\n",
              "    async function quickchart(key) {\n",
              "      const quickchartButtonEl =\n",
              "        document.querySelector('#' + key + ' button');\n",
              "      quickchartButtonEl.disabled = true;  // To prevent multiple clicks.\n",
              "      quickchartButtonEl.classList.add('colab-df-spinner');\n",
              "      try {\n",
              "        const charts = await google.colab.kernel.invokeFunction(\n",
              "            'suggestCharts', [key], {});\n",
              "      } catch (error) {\n",
              "        console.error('Error during call to suggestCharts:', error);\n",
              "      }\n",
              "      quickchartButtonEl.classList.remove('colab-df-spinner');\n",
              "      quickchartButtonEl.classList.add('colab-df-quickchart-complete');\n",
              "    }\n",
              "    (() => {\n",
              "      let quickchartButtonEl =\n",
              "        document.querySelector('#df-f8a5d372-8656-4869-9030-93214be5ccb7 button');\n",
              "      quickchartButtonEl.style.display =\n",
              "        google.colab.kernel.accessAllowed ? 'block' : 'none';\n",
              "    })();\n",
              "  </script>\n",
              "</div>\n",
              "\n",
              "  <div id=\"id_372366b7-7a2b-42ee-99a3-f6cabef7faa4\">\n",
              "    <style>\n",
              "      .colab-df-generate {\n",
              "        background-color: #E8F0FE;\n",
              "        border: none;\n",
              "        border-radius: 50%;\n",
              "        cursor: pointer;\n",
              "        display: none;\n",
              "        fill: #1967D2;\n",
              "        height: 32px;\n",
              "        padding: 0 0 0 0;\n",
              "        width: 32px;\n",
              "      }\n",
              "\n",
              "      .colab-df-generate:hover {\n",
              "        background-color: #E2EBFA;\n",
              "        box-shadow: 0px 1px 2px rgba(60, 64, 67, 0.3), 0px 1px 3px 1px rgba(60, 64, 67, 0.15);\n",
              "        fill: #174EA6;\n",
              "      }\n",
              "\n",
              "      [theme=dark] .colab-df-generate {\n",
              "        background-color: #3B4455;\n",
              "        fill: #D2E3FC;\n",
              "      }\n",
              "\n",
              "      [theme=dark] .colab-df-generate:hover {\n",
              "        background-color: #434B5C;\n",
              "        box-shadow: 0px 1px 3px 1px rgba(0, 0, 0, 0.15);\n",
              "        filter: drop-shadow(0px 1px 2px rgba(0, 0, 0, 0.3));\n",
              "        fill: #FFFFFF;\n",
              "      }\n",
              "    </style>\n",
              "    <button class=\"colab-df-generate\" onclick=\"generateWithVariable('data')\"\n",
              "            title=\"Generate code using this dataframe.\"\n",
              "            style=\"display:none;\">\n",
              "\n",
              "  <svg xmlns=\"http://www.w3.org/2000/svg\" height=\"24px\"viewBox=\"0 0 24 24\"\n",
              "       width=\"24px\">\n",
              "    <path d=\"M7,19H8.4L18.45,9,17,7.55,7,17.6ZM5,21V16.75L18.45,3.32a2,2,0,0,1,2.83,0l1.4,1.43a1.91,1.91,0,0,1,.58,1.4,1.91,1.91,0,0,1-.58,1.4L9.25,21ZM18.45,9,17,7.55Zm-12,3A5.31,5.31,0,0,0,4.9,8.1,5.31,5.31,0,0,0,1,6.5,5.31,5.31,0,0,0,4.9,4.9,5.31,5.31,0,0,0,6.5,1,5.31,5.31,0,0,0,8.1,4.9,5.31,5.31,0,0,0,12,6.5,5.46,5.46,0,0,0,6.5,12Z\"/>\n",
              "  </svg>\n",
              "    </button>\n",
              "    <script>\n",
              "      (() => {\n",
              "      const buttonEl =\n",
              "        document.querySelector('#id_372366b7-7a2b-42ee-99a3-f6cabef7faa4 button.colab-df-generate');\n",
              "      buttonEl.style.display =\n",
              "        google.colab.kernel.accessAllowed ? 'block' : 'none';\n",
              "\n",
              "      buttonEl.onclick = () => {\n",
              "        google.colab.notebook.generateWithVariable('data');\n",
              "      }\n",
              "      })();\n",
              "    </script>\n",
              "  </div>\n",
              "\n",
              "    </div>\n",
              "  </div>\n"
            ],
            "application/vnd.google.colaboratory.intrinsic+json": {
              "type": "dataframe",
              "variable_name": "data",
              "summary": "{\n  \"name\": \"data\",\n  \"rows\": 14,\n  \"fields\": [\n    {\n      \"column\": \"Names\",\n      \"properties\": {\n        \"dtype\": \"string\",\n        \"num_unique_values\": 14,\n        \"samples\": [\n          \"Harry\",\n          \"Sam\",\n          \"Mary\"\n        ],\n        \"semantic_type\": \"\",\n        \"description\": \"\"\n      }\n    }\n  ]\n}"
            }
          },
          "metadata": {},
          "execution_count": 26
        }
      ]
    },
    {
      "cell_type": "markdown",
      "source": [
        "### Note:\n",
        "\n",
        "Python Index: Indexing in Python is a way to access individual items within an iterable object, like a list, string, or tuple. (we'll comback to this later)\n",
        "\n",
        "e.g., z = [1, 2, 3](3 items)\n",
        "\n",
        "How to access to the first item of z?\n",
        "\n",
        "> z[0]\n",
        "\n",
        " 📌 Important: **Python index begins from '0'.** Python uses zero-based indexing. This means the first element is accessed with index 0, the second with 1, and so on."
      ],
      "metadata": {
        "id": "vO9jxQhnIeYM"
      }
    },
    {
      "cell_type": "code",
      "source": [
        "data ['Names'][0] # What is the output?"
      ],
      "metadata": {
        "id": "uSSLncUuIftq",
        "outputId": "ece40a9e-74df-42cf-9825-0dd6b8bef53c",
        "colab": {
          "base_uri": "https://localhost:8080/",
          "height": 38
        }
      },
      "execution_count": 32,
      "outputs": [
        {
          "output_type": "execute_result",
          "data": {
            "text/plain": [
              "'Mary'"
            ],
            "application/vnd.google.colaboratory.intrinsic+json": {
              "type": "string"
            }
          },
          "metadata": {},
          "execution_count": 32
        }
      ]
    },
    {
      "cell_type": "markdown",
      "source": [
        "# 3.4 Operators\n",
        "\n",
        "* Symbols that perform operations on values and variables.\n",
        "* They are used to perform arithmetic and logical operations, and they can also be used to manipulate and compare values."
      ],
      "metadata": {
        "id": "5JgA2T2dRft5"
      }
    },
    {
      "cell_type": "markdown",
      "source": [
        "1. Arithmetic Operators: +, -, *, /, %, ** (for exponentiation)"
      ],
      "metadata": {
        "id": "NJBgu_O4bczL"
      }
    },
    {
      "cell_type": "code",
      "source": [
        "x = 2; y = 5\n",
        "\n",
        "a1 = x + y\n",
        "a2 = x - y\n",
        "a3 = x * y\n",
        "a4 = x / y\n",
        "a5 = x ** y"
      ],
      "metadata": {
        "id": "dXT3pIzobUHU"
      },
      "execution_count": 33,
      "outputs": []
    },
    {
      "cell_type": "code",
      "source": [
        "print(\"x+y=\",a1)"
      ],
      "metadata": {
        "id": "_m3JBsOKd6Uv",
        "outputId": "6f6e3cbb-0cc7-4821-9c34-3d5b1ad0c853",
        "colab": {
          "base_uri": "https://localhost:8080/"
        }
      },
      "execution_count": 36,
      "outputs": [
        {
          "output_type": "stream",
          "name": "stdout",
          "text": [
            "x+y= 7\n"
          ]
        }
      ]
    },
    {
      "cell_type": "markdown",
      "source": [
        "# 🔢 Calculator\n",
        "\n",
        "+ [Online app](https://mrkim21.github.io/calculator.html)"
      ],
      "metadata": {
        "id": "Cx1NyWUAybc8"
      }
    },
    {
      "cell_type": "code",
      "source": [
        "# This function adds two numbers\n",
        "def add(x, y):\n",
        "    return x + y\n",
        "\n",
        "# This function subtracts two numbers\n",
        "def subtract(x, y):\n",
        "    return x - y\n",
        "\n",
        "# This function multiplies two numbers\n",
        "def multiply(x, y):\n",
        "    return x * y\n",
        "\n",
        "# This function divides two numbers\n",
        "def divide(x, y):\n",
        "    return x / y\n",
        "\n",
        "func = \"multiply\" #@param = [\"add\",\"subtract\",\"multiply\",\"divide\"]\n",
        "digits = input(\"Type two numbers: (e.g., 3,4)\")\n",
        "digitsplit = digits.split(',')\n",
        "d1 = int(digitsplit[0])\n",
        "d2 = int(digitsplit[1])\n",
        "\n",
        "if func == \"add\":\n",
        "  result = add(d1,d2)\n",
        "  text = \"The addition of %d and %d equals %d\"%(d1,d2,result)\n",
        "elif func == \"subtract\":\n",
        "  result = subtract(d1,d2)\n",
        "  text = \"If you subtract %d from %d, you get %d\"%(d2,d1,result)\n",
        "elif func == \"divide\":\n",
        "  result = divide(d1,d2)\n",
        "  text = \"When you divide %d by %d, you get %d\"%(d1,d2,result)\n",
        "elif func == \"multiply\":\n",
        "  result = multiply(d1,d2)\n",
        "  text = \"%d multiplied by %d is %d\"%(d1,d2,result)\n",
        "\n",
        "print(text)\n",
        "\n"
      ],
      "metadata": {
        "cellView": "form",
        "id": "Dod3_zgYdsWe",
        "colab": {
          "base_uri": "https://localhost:8080/"
        },
        "outputId": "7ed4f60a-bd03-4b65-fab3-67c03889575a"
      },
      "execution_count": 39,
      "outputs": [
        {
          "output_type": "stream",
          "name": "stdout",
          "text": [
            "Type two numbers: (e.g., 3,4)3,10\n",
            "3 multiplied by 10 is 30\n"
          ]
        }
      ]
    },
    {
      "cell_type": "code",
      "source": [
        "#@markdown Calculator app\n",
        "import ipywidgets as widgets\n",
        "from IPython.display import display\n",
        "\n",
        "# Create the output widget to display the results\n",
        "output = widgets.Output()\n",
        "\n",
        "# Create the text widget for displaying the expression\n",
        "expression = widgets.Text(value='', placeholder='Type something', description='Calculation:', disabled=False)\n",
        "\n",
        "def on_button_clicked(b):\n",
        "    with output:\n",
        "        output.clear_output()\n",
        "        if b.description == \"=\":\n",
        "            # Replace the Unicode operators with Python operators\n",
        "            current_expression = expression.value.replace('×', '*').replace('÷', '/')\n",
        "            # Evaluate the expression and handle errors\n",
        "            try:\n",
        "                expression.value = str(eval(current_expression))\n",
        "            except Exception as e:\n",
        "                expression.value = 'Error'\n",
        "        elif b.description == \"Clear\":  # Changed from \"C\" to \"Clear\"\n",
        "            # Clear the expression\n",
        "            expression.value = ''\n",
        "        else:\n",
        "            # Append the button description (number or operator) to the expression\n",
        "            expression.value += b.description\n",
        "\n",
        "\n",
        "# Create buttons using a loop and store them in a list\n",
        "buttons = []\n",
        "button_layout = widgets.Layout(width='75px', height='75px', margin='5px')  # Increased width and height, added margin\n",
        "button_style = {'button_color': 'orange'}  # Set the button color to orange\n",
        "\n",
        "operators = [['7', '8', '9', '÷'],\n",
        "             ['4', '5', '6', '×'],\n",
        "             ['1', '2', '3', '-'],\n",
        "             ['0', '.', '=', '+'],\n",
        "             ['Clear']]  # 'C' button for clearing the input\n",
        "\n",
        "for row in operators:\n",
        "    row_buttons = []\n",
        "    for button_label in row:\n",
        "        button = widgets.Button(description=button_label, layout=button_layout, style=button_style)\n",
        "        button.on_click(on_button_clicked)\n",
        "        row_buttons.append(button)\n",
        "    buttons.append(widgets.HBox(row_buttons))\n",
        "\n",
        "# Display all the widgets\n",
        "all_buttons = widgets.VBox([expression] + buttons)\n",
        "display(output, all_buttons)\n",
        "\n",
        "\n",
        "# Add a clear button\n",
        "clear_button = widgets.Button(description=\"C\", layout=button_layout)\n",
        "clear_button.on_click(on_button_clicked)\n",
        "buttons.append(widgets.HBox([clear_button]))\n",
        "\n",
        "# # Display all the widgets\n",
        "# all_buttons = widgets.VBox([expression] + buttons)\n",
        "# display(output, all_buttons)"
      ],
      "metadata": {
        "cellView": "form",
        "colab": {
          "base_uri": "https://localhost:8080/",
          "height": 475,
          "referenced_widgets": [
            "52f06db8bc4b4c22b93c489ceb384cde",
            "fd0f2ba28c674c1fa5361b7bef2650a6",
            "acb47be2927c4d65a753f9d65cb36129",
            "80763ae706b140c78148bc620cf8ac6e",
            "a26f9b6c62894b159c73140958f044e4",
            "b6fe2608f78540a4924f576b0c3f5424",
            "64bf8640450e4da8b33e25b6c3784c52",
            "8ce89a488d64441d9b80806e241ec0fb",
            "8e6efdad2ff94478a2491b4878acaa84",
            "c0286214a9a54ab1ababd719574d0401",
            "569cde652ad3438a93f8c34eff47fecf",
            "ce1990d4ef6f487a82a864652ae63db7",
            "25a96597c7ad423a892f41265c09d7e7",
            "276a85a5b3524fce8f950fdd4e4f39c9",
            "2d78767f9e9b4b18b3d2a6d3a2a2a449",
            "84d1a6943bd24723b4f71b7dae6da7ab",
            "e04a7c2f3ed049d6b82b369d603cc5a9",
            "42735907a21e4ec39c67a2c7f652ed01",
            "0e861bbf0ee34ef988020e6d9c0cc63c",
            "d03a7d99d6ff4e42bf03e286668264a9",
            "e3243588db6a4aeeab688c37d1cd60b3",
            "9bc7dbf4838a45858118fdcd95d85552",
            "228f592334854c0399d00b0f10817106",
            "8608171bc85e44b3afceda723b2ad107",
            "139efb35e8fb45a2a87e8646d6bddf33",
            "43353c76d0cf40ddbc458bc154915b88",
            "b873e54ee63142fb8552abd0c1db049a",
            "833fa8db12874cf0ae05a5303215a8db",
            "59cc6151b6204e40b5b58c2307333d38",
            "3d2d705a0d9342a98d9a7f8bcdad68d8",
            "88a4d6b634d5451f843f472a14998196",
            "ef1eb475a1e64e888b2e0a010934e979",
            "48ba7bbf095a42e2b1c2416f1cdffbe1",
            "fc5fdbc3880c4d179366302c43a39cc7",
            "f9f5696cbea24db0b1509b6d1bee574e",
            "72fceef70398493ab786a4d2b853e90a",
            "45d9ac43523d42708ed86fabc5c38e8c",
            "d77c08f39b0a4530bdda17c0901bcd3b",
            "0770ee980026480e9bbe081c07cae8ce",
            "515e2226d6f94229963eb5014d36e003",
            "f19e85f54f89496297c693ec92a397ef",
            "4fb444c612044511a0a1e5b52b42e305",
            "40b59d5e0fd14a54ae658f810947a05b",
            "c1ded93fb08145b7a08c83dc350284de",
            "f9698c24b5c64712a1523461c84d5d5d",
            "5bcdea3ae43946bc9ddb725d11931a4d",
            "5ebdaf149c58490c9ef181eaf4da64bf",
            "fc759c0af9ad4de9b220d57bf8be5b42",
            "8d6e4ee9e0fd413b9985c987fd805864",
            "1bfe21edab474fc5adec26998cbb577a",
            "36752896c02c419f9e2f9cee764cad9a",
            "028531c4fc7d405393d985c087a5cb95"
          ]
        },
        "id": "bCBS-TdWTtxZ",
        "outputId": "e2904011-d48a-494d-d09b-765ce4fa5808"
      },
      "execution_count": 41,
      "outputs": [
        {
          "output_type": "display_data",
          "data": {
            "text/plain": [
              "Output()"
            ],
            "application/vnd.jupyter.widget-view+json": {
              "version_major": 2,
              "version_minor": 0,
              "model_id": "52f06db8bc4b4c22b93c489ceb384cde"
            }
          },
          "metadata": {}
        },
        {
          "output_type": "display_data",
          "data": {
            "text/plain": [
              "VBox(children=(Text(value='', description='Calculation:', placeholder='Type something'), HBox(children=(Button…"
            ],
            "application/vnd.jupyter.widget-view+json": {
              "version_major": 2,
              "version_minor": 0,
              "model_id": "acb47be2927c4d65a753f9d65cb36129"
            }
          },
          "metadata": {}
        }
      ]
    },
    {
      "cell_type": "markdown",
      "source": [
        "More operators (for later): <br>\n",
        "* Comparison Operators: ==, !=, <, >, <=, >= <br>\n",
        "* Assignment Operators: =, +=, -=, *=, /=, %= <br>\n",
        "* Logical Operators: and, or, not <br>\n",
        "* Identity Operators: is, is not <br>\n",
        "* Membership Operators: in, not in"
      ],
      "metadata": {
        "id": "sfubu24UbqjH"
      }
    },
    {
      "cell_type": "code",
      "source": [
        "a1=\"hello\"; a2=\"mary\"; print(a1+\" \"+a2)"
      ],
      "metadata": {
        "id": "OINdYkiDSDL6",
        "outputId": "3b7b6cba-253e-4f30-a540-627852f2b094",
        "colab": {
          "base_uri": "https://localhost:8080/"
        }
      },
      "execution_count": 48,
      "outputs": [
        {
          "output_type": "stream",
          "name": "stdout",
          "text": [
            "hello mary\n"
          ]
        }
      ]
    },
    {
      "cell_type": "markdown",
      "source": [
        "# 3.5 Functions\n",
        "\n",
        "## Creating a Function in Python\n",
        "\n",
        "In Python, a function is defined using the `def` keyword, followed by a function name, a set of parentheses `()`, and a colon `:`. The indented block of code following the `:` is executed whenever the function is called.\n",
        "\n",
        "### Example:\n",
        "\n",
        "Here's a simple function that takes two numbers and returns their sum:\n",
        "\n",
        "```python\n",
        "def add_numbers(num1, num2):\n",
        "    result = num1 + num2\n",
        "    return result\n"
      ],
      "metadata": {
        "id": "MoUYg0HeW6oF"
      }
    },
    {
      "cell_type": "code",
      "source": [
        "def add_numbers(num1, num2):\n",
        "    result = num1 + num2\n",
        "    return result"
      ],
      "metadata": {
        "id": "lFPkO--FTip2"
      },
      "execution_count": null,
      "outputs": []
    },
    {
      "cell_type": "code",
      "source": [
        "def muli(a1,a2):\n",
        "  result=a1*a2\n",
        "  return result"
      ],
      "metadata": {
        "id": "xBh85vrxTnZx"
      },
      "execution_count": null,
      "outputs": []
    },
    {
      "cell_type": "code",
      "source": [
        "muli(4,120)"
      ],
      "metadata": {
        "id": "0k6cfJeUUH5q"
      },
      "execution_count": null,
      "outputs": []
    },
    {
      "cell_type": "code",
      "source": [
        "#@markdown Define yesno(sentence) function to make a statement to a yesno question.\n",
        "def yesno(sentence):\n",
        "    # Remove the period if it's at the end of the sentence\n",
        "    sentence = sentence.rstrip('.')\n",
        "\n",
        "    # Split the sentence into words\n",
        "    words = sentence.split()\n",
        "    # Define a list of 'be' verbs\n",
        "    be_verbs = ['is', 'are', 'am', 'was', 'were']\n",
        "\n",
        "    # Find the position of the 'be' verb\n",
        "    for i, word in enumerate(words):\n",
        "        if word in be_verbs and i != 0:  # Ensure the 'be' verb is not the first word\n",
        "            # Invert the subject and the 'be' verb\n",
        "            # Assuming the subject is the first word\n",
        "            subject = words[0].lower()  # Convert subject to lowercase\n",
        "            verb = words[i]\n",
        "            # Reconstruct the sentence as a yes-no question\n",
        "            remaining = words[1:i] + words[i+1:]\n",
        "            question = f\"{verb.capitalize()} {subject} \" + \" \".join(remaining).strip() + \"?\"\n",
        "            return question\n",
        "\n",
        "    # If no 'be' verb is found, or it's the first word, return the original sentence\n",
        "    return \"Not a simple 'be' verb sentence, already a question, or 'be' verb is the first word.\"\n",
        "\n",
        "# Example usage\n",
        "\n",
        "yoursentence = input(\"Type a simple sentence including be verb.\")\n",
        "yesno(yoursentence)\n"
      ],
      "metadata": {
        "cellView": "form",
        "id": "aeT6u0h7XbXW",
        "outputId": "9e31b851-fad7-424e-d505-b4c64e3e9e24",
        "colab": {
          "base_uri": "https://localhost:8080/",
          "height": 56
        }
      },
      "execution_count": 50,
      "outputs": [
        {
          "name": "stdout",
          "output_type": "stream",
          "text": [
            "Type a simple sentence including be verb.I am sleepy\n"
          ]
        },
        {
          "output_type": "execute_result",
          "data": {
            "text/plain": [
              "'Am i sleepy?'"
            ],
            "application/vnd.google.colaboratory.intrinsic+json": {
              "type": "string"
            }
          },
          "metadata": {},
          "execution_count": 50
        }
      ]
    },
    {
      "cell_type": "code",
      "source": [
        "!pip install gradio"
      ],
      "metadata": {
        "id": "DwamGcE-X_OQ",
        "outputId": "0d87d0c1-da69-4697-8a17-ce734c069ed3",
        "colab": {
          "base_uri": "https://localhost:8080/"
        }
      },
      "execution_count": 51,
      "outputs": [
        {
          "output_type": "stream",
          "name": "stdout",
          "text": [
            "Collecting gradio\n",
            "  Downloading gradio-4.23.0-py3-none-any.whl (17.1 MB)\n",
            "\u001b[2K     \u001b[90m━━━━━━━━━━━━━━━━━━━━━━━━━━━━━━━━━━━━━━━━\u001b[0m \u001b[32m17.1/17.1 MB\u001b[0m \u001b[31m63.6 MB/s\u001b[0m eta \u001b[36m0:00:00\u001b[0m\n",
            "\u001b[?25hCollecting aiofiles<24.0,>=22.0 (from gradio)\n",
            "  Downloading aiofiles-23.2.1-py3-none-any.whl (15 kB)\n",
            "Requirement already satisfied: altair<6.0,>=4.2.0 in /usr/local/lib/python3.10/dist-packages (from gradio) (4.2.2)\n",
            "Collecting fastapi (from gradio)\n",
            "  Downloading fastapi-0.110.0-py3-none-any.whl (92 kB)\n",
            "\u001b[2K     \u001b[90m━━━━━━━━━━━━━━━━━━━━━━━━━━━━━━━━━━━━━━━━\u001b[0m \u001b[32m92.1/92.1 kB\u001b[0m \u001b[31m11.9 MB/s\u001b[0m eta \u001b[36m0:00:00\u001b[0m\n",
            "\u001b[?25hCollecting ffmpy (from gradio)\n",
            "  Downloading ffmpy-0.3.2.tar.gz (5.5 kB)\n",
            "  Preparing metadata (setup.py) ... \u001b[?25l\u001b[?25hdone\n",
            "Collecting gradio-client==0.14.0 (from gradio)\n",
            "  Downloading gradio_client-0.14.0-py3-none-any.whl (312 kB)\n",
            "\u001b[2K     \u001b[90m━━━━━━━━━━━━━━━━━━━━━━━━━━━━━━━━━━━━━━━━\u001b[0m \u001b[32m312.4/312.4 kB\u001b[0m \u001b[31m28.3 MB/s\u001b[0m eta \u001b[36m0:00:00\u001b[0m\n",
            "\u001b[?25hCollecting httpx>=0.24.1 (from gradio)\n",
            "  Downloading httpx-0.27.0-py3-none-any.whl (75 kB)\n",
            "\u001b[2K     \u001b[90m━━━━━━━━━━━━━━━━━━━━━━━━━━━━━━━━━━━━━━━━\u001b[0m \u001b[32m75.6/75.6 kB\u001b[0m \u001b[31m10.3 MB/s\u001b[0m eta \u001b[36m0:00:00\u001b[0m\n",
            "\u001b[?25hRequirement already satisfied: huggingface-hub>=0.19.3 in /usr/local/lib/python3.10/dist-packages (from gradio) (0.20.3)\n",
            "Requirement already satisfied: importlib-resources<7.0,>=1.3 in /usr/local/lib/python3.10/dist-packages (from gradio) (6.3.2)\n",
            "Requirement already satisfied: jinja2<4.0 in /usr/local/lib/python3.10/dist-packages (from gradio) (3.1.3)\n",
            "Requirement already satisfied: markupsafe~=2.0 in /usr/local/lib/python3.10/dist-packages (from gradio) (2.1.5)\n",
            "Requirement already satisfied: matplotlib~=3.0 in /usr/local/lib/python3.10/dist-packages (from gradio) (3.7.1)\n",
            "Requirement already satisfied: numpy~=1.0 in /usr/local/lib/python3.10/dist-packages (from gradio) (1.25.2)\n",
            "Collecting orjson~=3.0 (from gradio)\n",
            "  Downloading orjson-3.9.15-cp310-cp310-manylinux_2_17_x86_64.manylinux2014_x86_64.whl (138 kB)\n",
            "\u001b[2K     \u001b[90m━━━━━━━━━━━━━━━━━━━━━━━━━━━━━━━━━━━━━━━━\u001b[0m \u001b[32m138.5/138.5 kB\u001b[0m \u001b[31m19.5 MB/s\u001b[0m eta \u001b[36m0:00:00\u001b[0m\n",
            "\u001b[?25hRequirement already satisfied: packaging in /usr/local/lib/python3.10/dist-packages (from gradio) (24.0)\n",
            "Requirement already satisfied: pandas<3.0,>=1.0 in /usr/local/lib/python3.10/dist-packages (from gradio) (1.5.3)\n",
            "Requirement already satisfied: pillow<11.0,>=8.0 in /usr/local/lib/python3.10/dist-packages (from gradio) (9.4.0)\n",
            "Requirement already satisfied: pydantic>=2.0 in /usr/local/lib/python3.10/dist-packages (from gradio) (2.6.4)\n",
            "Collecting pydub (from gradio)\n",
            "  Downloading pydub-0.25.1-py2.py3-none-any.whl (32 kB)\n",
            "Collecting python-multipart>=0.0.9 (from gradio)\n",
            "  Downloading python_multipart-0.0.9-py3-none-any.whl (22 kB)\n",
            "Requirement already satisfied: pyyaml<7.0,>=5.0 in /usr/local/lib/python3.10/dist-packages (from gradio) (6.0.1)\n",
            "Collecting ruff>=0.2.2 (from gradio)\n",
            "  Downloading ruff-0.3.4-py3-none-manylinux_2_17_x86_64.manylinux2014_x86_64.whl (8.7 MB)\n",
            "\u001b[2K     \u001b[90m━━━━━━━━━━━━━━━━━━━━━━━━━━━━━━━━━━━━━━━━\u001b[0m \u001b[32m8.7/8.7 MB\u001b[0m \u001b[31m58.1 MB/s\u001b[0m eta \u001b[36m0:00:00\u001b[0m\n",
            "\u001b[?25hCollecting semantic-version~=2.0 (from gradio)\n",
            "  Downloading semantic_version-2.10.0-py2.py3-none-any.whl (15 kB)\n",
            "Collecting tomlkit==0.12.0 (from gradio)\n",
            "  Downloading tomlkit-0.12.0-py3-none-any.whl (37 kB)\n",
            "Requirement already satisfied: typer[all]<1.0,>=0.9 in /usr/local/lib/python3.10/dist-packages (from gradio) (0.9.0)\n",
            "Requirement already satisfied: typing-extensions~=4.0 in /usr/local/lib/python3.10/dist-packages (from gradio) (4.10.0)\n",
            "Collecting uvicorn>=0.14.0 (from gradio)\n",
            "  Downloading uvicorn-0.29.0-py3-none-any.whl (60 kB)\n",
            "\u001b[2K     \u001b[90m━━━━━━━━━━━━━━━━━━━━━━━━━━━━━━━━━━━━━━━━\u001b[0m \u001b[32m60.8/60.8 kB\u001b[0m \u001b[31m5.4 MB/s\u001b[0m eta \u001b[36m0:00:00\u001b[0m\n",
            "\u001b[?25hRequirement already satisfied: fsspec in /usr/local/lib/python3.10/dist-packages (from gradio-client==0.14.0->gradio) (2023.6.0)\n",
            "Collecting websockets<12.0,>=10.0 (from gradio-client==0.14.0->gradio)\n",
            "  Downloading websockets-11.0.3-cp310-cp310-manylinux_2_5_x86_64.manylinux1_x86_64.manylinux_2_17_x86_64.manylinux2014_x86_64.whl (129 kB)\n",
            "\u001b[2K     \u001b[90m━━━━━━━━━━━━━━━━━━━━━━━━━━━━━━━━━━━━━━━━\u001b[0m \u001b[32m129.9/129.9 kB\u001b[0m \u001b[31m16.4 MB/s\u001b[0m eta \u001b[36m0:00:00\u001b[0m\n",
            "\u001b[?25hRequirement already satisfied: entrypoints in /usr/local/lib/python3.10/dist-packages (from altair<6.0,>=4.2.0->gradio) (0.4)\n",
            "Requirement already satisfied: jsonschema>=3.0 in /usr/local/lib/python3.10/dist-packages (from altair<6.0,>=4.2.0->gradio) (4.19.2)\n",
            "Requirement already satisfied: toolz in /usr/local/lib/python3.10/dist-packages (from altair<6.0,>=4.2.0->gradio) (0.12.1)\n",
            "Requirement already satisfied: anyio in /usr/local/lib/python3.10/dist-packages (from httpx>=0.24.1->gradio) (3.7.1)\n",
            "Requirement already satisfied: certifi in /usr/local/lib/python3.10/dist-packages (from httpx>=0.24.1->gradio) (2024.2.2)\n",
            "Collecting httpcore==1.* (from httpx>=0.24.1->gradio)\n",
            "  Downloading httpcore-1.0.4-py3-none-any.whl (77 kB)\n",
            "\u001b[2K     \u001b[90m━━━━━━━━━━━━━━━━━━━━━━━━━━━━━━━━━━━━━━━━\u001b[0m \u001b[32m77.8/77.8 kB\u001b[0m \u001b[31m10.4 MB/s\u001b[0m eta \u001b[36m0:00:00\u001b[0m\n",
            "\u001b[?25hRequirement already satisfied: idna in /usr/local/lib/python3.10/dist-packages (from httpx>=0.24.1->gradio) (3.6)\n",
            "Requirement already satisfied: sniffio in /usr/local/lib/python3.10/dist-packages (from httpx>=0.24.1->gradio) (1.3.1)\n",
            "Collecting h11<0.15,>=0.13 (from httpcore==1.*->httpx>=0.24.1->gradio)\n",
            "  Downloading h11-0.14.0-py3-none-any.whl (58 kB)\n",
            "\u001b[2K     \u001b[90m━━━━━━━━━━━━━━━━━━━━━━━━━━━━━━━━━━━━━━━━\u001b[0m \u001b[32m58.3/58.3 kB\u001b[0m \u001b[31m7.8 MB/s\u001b[0m eta \u001b[36m0:00:00\u001b[0m\n",
            "\u001b[?25hRequirement already satisfied: filelock in /usr/local/lib/python3.10/dist-packages (from huggingface-hub>=0.19.3->gradio) (3.13.1)\n",
            "Requirement already satisfied: requests in /usr/local/lib/python3.10/dist-packages (from huggingface-hub>=0.19.3->gradio) (2.31.0)\n",
            "Requirement already satisfied: tqdm>=4.42.1 in /usr/local/lib/python3.10/dist-packages (from huggingface-hub>=0.19.3->gradio) (4.66.2)\n",
            "Requirement already satisfied: contourpy>=1.0.1 in /usr/local/lib/python3.10/dist-packages (from matplotlib~=3.0->gradio) (1.2.0)\n",
            "Requirement already satisfied: cycler>=0.10 in /usr/local/lib/python3.10/dist-packages (from matplotlib~=3.0->gradio) (0.12.1)\n",
            "Requirement already satisfied: fonttools>=4.22.0 in /usr/local/lib/python3.10/dist-packages (from matplotlib~=3.0->gradio) (4.50.0)\n",
            "Requirement already satisfied: kiwisolver>=1.0.1 in /usr/local/lib/python3.10/dist-packages (from matplotlib~=3.0->gradio) (1.4.5)\n",
            "Requirement already satisfied: pyparsing>=2.3.1 in /usr/local/lib/python3.10/dist-packages (from matplotlib~=3.0->gradio) (3.1.2)\n",
            "Requirement already satisfied: python-dateutil>=2.7 in /usr/local/lib/python3.10/dist-packages (from matplotlib~=3.0->gradio) (2.8.2)\n",
            "Requirement already satisfied: pytz>=2020.1 in /usr/local/lib/python3.10/dist-packages (from pandas<3.0,>=1.0->gradio) (2023.4)\n",
            "Requirement already satisfied: annotated-types>=0.4.0 in /usr/local/lib/python3.10/dist-packages (from pydantic>=2.0->gradio) (0.6.0)\n",
            "Requirement already satisfied: pydantic-core==2.16.3 in /usr/local/lib/python3.10/dist-packages (from pydantic>=2.0->gradio) (2.16.3)\n",
            "Requirement already satisfied: click<9.0.0,>=7.1.1 in /usr/local/lib/python3.10/dist-packages (from typer[all]<1.0,>=0.9->gradio) (8.1.7)\n",
            "Collecting colorama<0.5.0,>=0.4.3 (from typer[all]<1.0,>=0.9->gradio)\n",
            "  Downloading colorama-0.4.6-py2.py3-none-any.whl (25 kB)\n",
            "Collecting shellingham<2.0.0,>=1.3.0 (from typer[all]<1.0,>=0.9->gradio)\n",
            "  Downloading shellingham-1.5.4-py2.py3-none-any.whl (9.8 kB)\n",
            "Requirement already satisfied: rich<14.0.0,>=10.11.0 in /usr/local/lib/python3.10/dist-packages (from typer[all]<1.0,>=0.9->gradio) (13.7.1)\n",
            "Collecting starlette<0.37.0,>=0.36.3 (from fastapi->gradio)\n",
            "  Downloading starlette-0.36.3-py3-none-any.whl (71 kB)\n",
            "\u001b[2K     \u001b[90m━━━━━━━━━━━━━━━━━━━━━━━━━━━━━━━━━━━━━━━━\u001b[0m \u001b[32m71.5/71.5 kB\u001b[0m \u001b[31m9.1 MB/s\u001b[0m eta \u001b[36m0:00:00\u001b[0m\n",
            "\u001b[?25hRequirement already satisfied: attrs>=22.2.0 in /usr/local/lib/python3.10/dist-packages (from jsonschema>=3.0->altair<6.0,>=4.2.0->gradio) (23.2.0)\n",
            "Requirement already satisfied: jsonschema-specifications>=2023.03.6 in /usr/local/lib/python3.10/dist-packages (from jsonschema>=3.0->altair<6.0,>=4.2.0->gradio) (2023.12.1)\n",
            "Requirement already satisfied: referencing>=0.28.4 in /usr/local/lib/python3.10/dist-packages (from jsonschema>=3.0->altair<6.0,>=4.2.0->gradio) (0.34.0)\n",
            "Requirement already satisfied: rpds-py>=0.7.1 in /usr/local/lib/python3.10/dist-packages (from jsonschema>=3.0->altair<6.0,>=4.2.0->gradio) (0.18.0)\n",
            "Requirement already satisfied: six>=1.5 in /usr/local/lib/python3.10/dist-packages (from python-dateutil>=2.7->matplotlib~=3.0->gradio) (1.16.0)\n",
            "Requirement already satisfied: markdown-it-py>=2.2.0 in /usr/local/lib/python3.10/dist-packages (from rich<14.0.0,>=10.11.0->typer[all]<1.0,>=0.9->gradio) (3.0.0)\n",
            "Requirement already satisfied: pygments<3.0.0,>=2.13.0 in /usr/local/lib/python3.10/dist-packages (from rich<14.0.0,>=10.11.0->typer[all]<1.0,>=0.9->gradio) (2.16.1)\n",
            "Requirement already satisfied: exceptiongroup in /usr/local/lib/python3.10/dist-packages (from anyio->httpx>=0.24.1->gradio) (1.2.0)\n",
            "Requirement already satisfied: charset-normalizer<4,>=2 in /usr/local/lib/python3.10/dist-packages (from requests->huggingface-hub>=0.19.3->gradio) (3.3.2)\n",
            "Requirement already satisfied: urllib3<3,>=1.21.1 in /usr/local/lib/python3.10/dist-packages (from requests->huggingface-hub>=0.19.3->gradio) (2.0.7)\n",
            "Requirement already satisfied: mdurl~=0.1 in /usr/local/lib/python3.10/dist-packages (from markdown-it-py>=2.2.0->rich<14.0.0,>=10.11.0->typer[all]<1.0,>=0.9->gradio) (0.1.2)\n",
            "Building wheels for collected packages: ffmpy\n",
            "  Building wheel for ffmpy (setup.py) ... \u001b[?25l\u001b[?25hdone\n",
            "  Created wheel for ffmpy: filename=ffmpy-0.3.2-py3-none-any.whl size=5584 sha256=e0506f9e9166d16e45c6e26229f9153674e2f504f3153c66143aa5a6f36fe001\n",
            "  Stored in directory: /root/.cache/pip/wheels/bd/65/9a/671fc6dcde07d4418df0c592f8df512b26d7a0029c2a23dd81\n",
            "Successfully built ffmpy\n",
            "Installing collected packages: pydub, ffmpy, websockets, tomlkit, shellingham, semantic-version, ruff, python-multipart, orjson, h11, colorama, aiofiles, uvicorn, starlette, httpcore, httpx, fastapi, gradio-client, gradio\n",
            "Successfully installed aiofiles-23.2.1 colorama-0.4.6 fastapi-0.110.0 ffmpy-0.3.2 gradio-4.23.0 gradio-client-0.14.0 h11-0.14.0 httpcore-1.0.4 httpx-0.27.0 orjson-3.9.15 pydub-0.25.1 python-multipart-0.0.9 ruff-0.3.4 semantic-version-2.10.0 shellingham-1.5.4 starlette-0.36.3 tomlkit-0.12.0 uvicorn-0.29.0 websockets-11.0.3\n"
          ]
        }
      ]
    },
    {
      "cell_type": "code",
      "source": [
        "import gradio as gr\n",
        "\n",
        "def yesno(sentence):\n",
        "    sentence = sentence.rstrip('.')\n",
        "    words = sentence.split()\n",
        "    be_verbs = ['is', 'are', 'am', 'was', 'were']\n",
        "\n",
        "    for i, word in enumerate(words):\n",
        "        if word in be_verbs and i != 0:\n",
        "            subject = words[0].lower()\n",
        "            verb = words[i]\n",
        "            remaining = words[1:i] + words[i+1:]\n",
        "            question = f\"{verb.capitalize()} {subject} \" + \" \".join(remaining).strip() + \"?\"\n",
        "            return question\n",
        "\n",
        "    return \"Not a simple 'be' verb sentence, already a question, or 'be' verb is the first word.\"\n",
        "\n",
        "iface = gr.Interface(\n",
        "    fn=yesno,\n",
        "    inputs=gr.Textbox(lines=2, placeholder=\"Enter a sentence\"),\n",
        "    outputs=\"text\",\n",
        "    title=\"Yes-No Question Converter (with be-verb only)\",\n",
        "    description=\"Enter a sentence and this app will convert it into a yes-no question.\"\n",
        ")\n",
        "\n",
        "iface.launch()\n"
      ],
      "metadata": {
        "id": "XkDCRhqNaqOE",
        "outputId": "6bb73e1e-9dce-4af1-c0d3-34fcbcfd622c",
        "colab": {
          "base_uri": "https://localhost:8080/",
          "height": 649
        }
      },
      "execution_count": 52,
      "outputs": [
        {
          "output_type": "stream",
          "name": "stdout",
          "text": [
            "Setting queue=True in a Colab notebook requires sharing enabled. Setting `share=True` (you can turn this off by setting `share=False` in `launch()` explicitly).\n",
            "\n",
            "Colab notebook detected. To show errors in colab notebook, set debug=True in launch()\n",
            "Running on public URL: https://403b0290629f3974f7.gradio.live\n",
            "\n",
            "This share link expires in 72 hours. For free permanent hosting and GPU upgrades, run `gradio deploy` from Terminal to deploy to Spaces (https://huggingface.co/spaces)\n"
          ]
        },
        {
          "output_type": "display_data",
          "data": {
            "text/plain": [
              "<IPython.core.display.HTML object>"
            ],
            "text/html": [
              "<div><iframe src=\"https://403b0290629f3974f7.gradio.live\" width=\"100%\" height=\"500\" allow=\"autoplay; camera; microphone; clipboard-read; clipboard-write;\" frameborder=\"0\" allowfullscreen></iframe></div>"
            ]
          },
          "metadata": {}
        },
        {
          "output_type": "execute_result",
          "data": {
            "text/plain": []
          },
          "metadata": {},
          "execution_count": 52
        }
      ]
    },
    {
      "cell_type": "code",
      "source": [
        "!pip install gtts"
      ],
      "metadata": {
        "id": "35WqtLTvb1Ep",
        "outputId": "38490bd0-ee1b-4022-aa8c-61440421d245",
        "colab": {
          "base_uri": "https://localhost:8080/"
        }
      },
      "execution_count": 53,
      "outputs": [
        {
          "output_type": "stream",
          "name": "stdout",
          "text": [
            "Collecting gtts\n",
            "  Downloading gTTS-2.5.1-py3-none-any.whl (29 kB)\n",
            "Requirement already satisfied: requests<3,>=2.27 in /usr/local/lib/python3.10/dist-packages (from gtts) (2.31.0)\n",
            "Requirement already satisfied: click<8.2,>=7.1 in /usr/local/lib/python3.10/dist-packages (from gtts) (8.1.7)\n",
            "Requirement already satisfied: charset-normalizer<4,>=2 in /usr/local/lib/python3.10/dist-packages (from requests<3,>=2.27->gtts) (3.3.2)\n",
            "Requirement already satisfied: idna<4,>=2.5 in /usr/local/lib/python3.10/dist-packages (from requests<3,>=2.27->gtts) (3.6)\n",
            "Requirement already satisfied: urllib3<3,>=1.21.1 in /usr/local/lib/python3.10/dist-packages (from requests<3,>=2.27->gtts) (2.0.7)\n",
            "Requirement already satisfied: certifi>=2017.4.17 in /usr/local/lib/python3.10/dist-packages (from requests<3,>=2.27->gtts) (2024.2.2)\n",
            "Installing collected packages: gtts\n",
            "Successfully installed gtts-2.5.1\n"
          ]
        }
      ]
    },
    {
      "cell_type": "code",
      "source": [
        "#@markdown Yes-No converter app (using Gradio)\n",
        "import gradio as gr\n",
        "from gtts import gTTS\n",
        "import os\n",
        "\n",
        "def yesno_with_audio(sentence):\n",
        "    # Your existing yesno function\n",
        "    def yesno(sentence):\n",
        "        sentence = sentence.rstrip('.')\n",
        "        words = sentence.split()\n",
        "        be_verbs = ['is', 'are', 'am', 'was', 'were']\n",
        "\n",
        "        for i, word in enumerate(words):\n",
        "            if word in be_verbs and i != 0:\n",
        "                subject = words[0].lower()\n",
        "                verb = words[i]\n",
        "                remaining = words[1:i] + words[i+1:]\n",
        "                question = f\"{verb.capitalize()} {subject} \" + \" \".join(remaining).strip() + \"?\"\n",
        "                return question\n",
        "\n",
        "        return \"Not a simple 'be' verb sentence, already a question, or 'be' verb is the first word.\"\n",
        "\n",
        "    # Generate the yes-no question\n",
        "    question = yesno(sentence)\n",
        "\n",
        "    # Generate audio from the question\n",
        "    tts = gTTS(question, lang='en')\n",
        "    audio_file = 'output_audio.mp3'\n",
        "    tts.save(audio_file)\n",
        "\n",
        "    return question, audio_file\n",
        "\n",
        "iface = gr.Interface(\n",
        "    fn=yesno_with_audio,\n",
        "    inputs=gr.Textbox(lines=2, placeholder=\"Enter a sentence\"),\n",
        "    outputs=[\"text\", \"audio\"],\n",
        "    title=\"Yes-No Question Generator with Audio\",\n",
        "    description=\"Enter a sentence and this app will convert it into a yes-no question and read it aloud.\"\n",
        ")\n",
        "\n",
        "iface.launch()\n"
      ],
      "metadata": {
        "cellView": "form",
        "id": "PvmI4XQ2bSkY",
        "outputId": "17df628e-f6e3-4a68-e707-ac10ec42fbac",
        "colab": {
          "base_uri": "https://localhost:8080/",
          "height": 649
        }
      },
      "execution_count": 54,
      "outputs": [
        {
          "output_type": "stream",
          "name": "stdout",
          "text": [
            "Setting queue=True in a Colab notebook requires sharing enabled. Setting `share=True` (you can turn this off by setting `share=False` in `launch()` explicitly).\n",
            "\n",
            "Colab notebook detected. To show errors in colab notebook, set debug=True in launch()\n",
            "Running on public URL: https://ed9631dc755e920e62.gradio.live\n",
            "\n",
            "This share link expires in 72 hours. For free permanent hosting and GPU upgrades, run `gradio deploy` from Terminal to deploy to Spaces (https://huggingface.co/spaces)\n"
          ]
        },
        {
          "output_type": "display_data",
          "data": {
            "text/plain": [
              "<IPython.core.display.HTML object>"
            ],
            "text/html": [
              "<div><iframe src=\"https://ed9631dc755e920e62.gradio.live\" width=\"100%\" height=\"500\" allow=\"autoplay; camera; microphone; clipboard-read; clipboard-write;\" frameborder=\"0\" allowfullscreen></iframe></div>"
            ]
          },
          "metadata": {}
        },
        {
          "output_type": "execute_result",
          "data": {
            "text/plain": []
          },
          "metadata": {},
          "execution_count": 54
        }
      ]
    },
    {
      "cell_type": "markdown",
      "source": [
        "# ⏰ Todo:"
      ],
      "metadata": {
        "id": "9D7U7633g0S_"
      }
    },
    {
      "cell_type": "code",
      "source": [
        "a1 = input()\n",
        "a2= input()\n",
        "\n",
        "print(a1+a2)\n"
      ],
      "metadata": {
        "id": "FE0Ww66hbXZm",
        "outputId": "3ba4ebbc-373a-40ff-c758-ccf744f963f2",
        "colab": {
          "base_uri": "https://localhost:8080/"
        }
      },
      "execution_count": 56,
      "outputs": [
        {
          "output_type": "stream",
          "name": "stdout",
          "text": [
            "6\n",
            "76\n",
            "676\n"
          ]
        }
      ]
    },
    {
      "cell_type": "code",
      "source": [
        "a3= \"welcome\"\n",
        "a3[0:3]"
      ],
      "metadata": {
        "id": "s2cbttZFcBQZ",
        "outputId": "7cbb9d9f-5001-4c76-ea42-3f77474b45f2",
        "colab": {
          "base_uri": "https://localhost:8080/",
          "height": 38
        }
      },
      "execution_count": 63,
      "outputs": [
        {
          "output_type": "execute_result",
          "data": {
            "text/plain": [
              "'wel'"
            ],
            "application/vnd.google.colaboratory.intrinsic+json": {
              "type": "string"
            }
          },
          "metadata": {},
          "execution_count": 63
        }
      ]
    },
    {
      "cell_type": "markdown",
      "source": [],
      "metadata": {
        "id": "mSpge9tenu6I"
      }
    },
    {
      "cell_type": "markdown",
      "source": [
        "\n",
        "\n",
        "---\n",
        "# The End\n"
      ],
      "metadata": {
        "id": "3cZjH9xIiN4_"
      }
    }
  ]
}